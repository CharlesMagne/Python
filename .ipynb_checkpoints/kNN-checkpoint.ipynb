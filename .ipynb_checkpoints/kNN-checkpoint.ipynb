{
 "cells": [
  {
   "cell_type": "markdown",
   "metadata": {},
   "source": [
    "# K Nearest Neighbor\n",
    "Stastical learning - collection of mathmatical + compution tool to understand data aka supervised learning. Goal - predict an output based on one or more inputs. \n",
    "- predictors - independent variables - features \n",
    "- output - response - dependent variables\n",
    "\n",
    "- regression problems - observations with numbers - quantitative\n",
    "- Classification problems - categorical data - qualitative \n",
    "\n",
    "KNN - classifier that when presented with a new observation whose category is not known it will attempt to assign that observation to a category, or class based on observations for which it does know. First identifies those k points in the data that are nearest to the point and classifies the new data point as belonging to the most common class among those k neighbors\n",
    "\n",
    "### Finding Distance Between Two Points\n",
    "\n",
    "<b>Euclidean distance</b> http://www.mathwarehouse.com/algebra/distance_formula/index.php <br/>\n",
    "\n",
    "$\\sqrt{(a_1-a_2)^2-(b_1-b_2)^2}$"
   ]
  },
  {
   "cell_type": "code",
   "execution_count": 49,
   "metadata": {
    "collapsed": true
   },
   "outputs": [],
   "source": [
    "import numpy as np\n",
    "import random\n",
    "import matplotlib.pyplot as plt\n",
    "%matplotlib inline\n",
    "import scipy.stats as ss"
   ]
  },
  {
   "cell_type": "code",
   "execution_count": 50,
   "metadata": {},
   "outputs": [
    {
     "name": "stdout",
     "output_type": "stream",
     "text": [
      "[3 3]\n",
      "[9 9]\n",
      "4.24264068712\n"
     ]
    }
   ],
   "source": [
    "import numpy as np\n",
    "p1 = np.array([1,1])\n",
    "p2 = np.array([4,4])\n",
    "print (p2 - p1)\n",
    "#square differnce between two points \n",
    "print (np.power(p2 - p1, 2))\n",
    "# sum over two and take the square root\n",
    "print (np.sqrt(np.sum(np.power(p2 - p1, 2))))"
   ]
  },
  {
   "cell_type": "code",
   "execution_count": 51,
   "metadata": {},
   "outputs": [
    {
     "data": {
      "text/plain": [
       "4.2426406871192848"
      ]
     },
     "execution_count": 51,
     "metadata": {},
     "output_type": "execute_result"
    }
   ],
   "source": [
    "p1 = np.array([1,1])\n",
    "p2 = np.array([4,4])\n",
    "\n",
    "def distance(p1, p2):\n",
    "    \"\"\"find the distance between points p1 and p2\"\"\"\n",
    "    return np.sqrt(np.sum(np.power(p2 - p1, 2)))\n",
    "\n",
    "distance(p1, p2)"
   ]
  },
  {
   "cell_type": "markdown",
   "metadata": {},
   "source": [
    "### Compute \"majority vote\"\n",
    "Given an array or sequence of votes, need to determine now many times each occurs and then find the most common element. Return observation corresponding ot highest count"
   ]
  },
  {
   "cell_type": "code",
   "execution_count": 52,
   "metadata": {
    "collapsed": true
   },
   "outputs": [],
   "source": [
    "def majority_vote(votes):\n",
    "    vote_counts = {}\n",
    "    for vote in votes:\n",
    "        if vote in vote_counts:\n",
    "            vote_counts[vote] += 1\n",
    "        else:\n",
    "            vote_counts[vote] = 1\n",
    "    return vote_counts"
   ]
  },
  {
   "cell_type": "code",
   "execution_count": 53,
   "metadata": {},
   "outputs": [
    {
     "data": {
      "text/plain": [
       "{1: 4, 2: 4, 3: 6}"
      ]
     },
     "execution_count": 53,
     "metadata": {},
     "output_type": "execute_result"
    }
   ],
   "source": [
    "votes = [1,2,3,1,2,3,1,1,2,2,3,3,3,3]\n",
    "vote_counts = majority_vote(votes)\n",
    "vote_counts"
   ]
  },
  {
   "cell_type": "markdown",
   "metadata": {},
   "source": [
    "return the kew with the maximum count"
   ]
  },
  {
   "cell_type": "code",
   "execution_count": 54,
   "metadata": {},
   "outputs": [
    {
     "data": {
      "text/plain": [
       "3"
      ]
     },
     "execution_count": 54,
     "metadata": {},
     "output_type": "execute_result"
    }
   ],
   "source": [
    "max(vote_counts)"
   ]
  },
  {
   "cell_type": "code",
   "execution_count": 55,
   "metadata": {},
   "outputs": [
    {
     "name": "stdout",
     "output_type": "stream",
     "text": [
      "3\n",
      "6\n"
     ]
    }
   ],
   "source": [
    "print max(vote_counts.keys())\n",
    "print max(vote_counts.values())"
   ]
  },
  {
   "cell_type": "code",
   "execution_count": 56,
   "metadata": {},
   "outputs": [
    {
     "name": "stdout",
     "output_type": "stream",
     "text": [
      "(1, 4)\n",
      "(2, 4)\n",
      "(3, 6)\n"
     ]
    }
   ],
   "source": [
    "for vote, count in vote_counts.items():\n",
    "    print (vote,count)\n",
    "# object with elements consisting of tuples of key, value pairs"
   ]
  },
  {
   "cell_type": "code",
   "execution_count": 57,
   "metadata": {},
   "outputs": [
    {
     "data": {
      "text/plain": [
       "[3]"
      ]
     },
     "execution_count": 57,
     "metadata": {},
     "output_type": "execute_result"
    }
   ],
   "source": [
    "winners = []\n",
    "max_count = max(vote_counts.values())\n",
    "for vote, count in vote_counts.items():\n",
    "    if count == max_count:\n",
    "        winners.append(vote)\n",
    "winners"
   ]
  },
  {
   "cell_type": "markdown",
   "metadata": {},
   "source": [
    "if a tie pick one at random"
   ]
  },
  {
   "cell_type": "code",
   "execution_count": 58,
   "metadata": {},
   "outputs": [
    {
     "data": {
      "text/plain": [
       "4"
      ]
     },
     "execution_count": 58,
     "metadata": {},
     "output_type": "execute_result"
    }
   ],
   "source": [
    "import random\n",
    "\n",
    "def majority_vote(votes):\n",
    "    \"\"\"return the most common element in votes\"\"\"\n",
    "    vote_counts = {}\n",
    "    for vote in votes:\n",
    "        if vote in vote_counts:\n",
    "            vote_counts[vote] += 1\n",
    "        else:\n",
    "            vote_counts[vote] = 1\n",
    "    \n",
    "    winners = []\n",
    "    max_count = max(vote_counts.values())\n",
    "    for vote, count in vote_counts.items():\n",
    "        if count == max_count:\n",
    "            winners.append(vote)\n",
    "            \n",
    "    return random.choice(winners)\n",
    "\n",
    "votes2 = [1,2,3,1,2,3,1,1,2,2,3,3,3,3,4,4,4,4,4,4]\n",
    "majority_vote(votes2)"
   ]
  },
  {
   "cell_type": "markdown",
   "metadata": {},
   "source": [
    "<b> mode </b> most common element in an array or sequence <br/>\n",
    "https://docs.scipy.org/doc/scipy-0.19.0/reference/generated/scipy.stats.mode.html"
   ]
  },
  {
   "cell_type": "code",
   "execution_count": 59,
   "metadata": {},
   "outputs": [
    {
     "data": {
      "text/plain": [
       "array([ 3.])"
      ]
     },
     "execution_count": 59,
     "metadata": {},
     "output_type": "execute_result"
    }
   ],
   "source": [
    "import scipy.stats as ss\n",
    "\n",
    "def majority_vote_short(votes):\n",
    "    \"\"\"return the most common element in votes\"\"\"\n",
    "    mode, count = ss.mstats.mode(votes)\n",
    "    return mode\n",
    "            \n",
    "    return random.choice(winners)\n",
    "\n",
    "majority_vote_short(votes2)"
   ]
  },
  {
   "cell_type": "markdown",
   "metadata": {},
   "source": [
    "for kNN will use `majority_vote` function instead of the scipy mode module because need to pick one at random incase of a tie. "
   ]
  },
  {
   "cell_type": "markdown",
   "metadata": {},
   "source": [
    "### Finding Nearest Neighbors\n",
    "Need to find which point are the nearest nighbor of any given point to classify"
   ]
  },
  {
   "cell_type": "code",
   "execution_count": 81,
   "metadata": {},
   "outputs": [
    {
     "name": "stdout",
     "output_type": "stream",
     "text": [
      "[[1 1]\n",
      " [1 2]\n",
      " [1 3]\n",
      " [2 1]\n",
      " [2 2]\n",
      " [2 3]\n",
      " [3 1]\n",
      " [3 2]\n",
      " [3 3]]\n",
      "[ 2.5  2. ]\n"
     ]
    }
   ],
   "source": [
    "points_samp = np.array([[1,1],[1,2],[1,3],[2,1],[2,2],[2,3],[3,1],[3,2],[3,3]])\n",
    "print (points_samp)\n",
    "p = np.array([2.5,2])\n",
    "print (p)"
   ]
  },
  {
   "cell_type": "code",
   "execution_count": 61,
   "metadata": {},
   "outputs": [
    {
     "data": {
      "text/plain": [
       "[0.5, 3.5, 0.5, 3.5]"
      ]
     },
     "execution_count": 61,
     "metadata": {},
     "output_type": "execute_result"
    },
    {
     "data": {
      "image/png": "[encoded data removed]",
      "text/plain": [
       "<matplotlib.figure.Figure at 0xaa3e908>"
      ]
     },
     "metadata": {},
     "output_type": "display_data"
    }
   ],
   "source": [
    "import matplotlib.pyplot as plt\n",
    "%matplotlib inline\n",
    "\n",
    "plt.plot(points[:,0], points[:,1], \"ro\")\n",
    "plt.plot(p[0], p[1], \"bo\")\n",
    "plt.axis([0.5, 3.5, 0.5, 3.5])"
   ]
  },
  {
   "cell_type": "code",
   "execution_count": 62,
   "metadata": {},
   "outputs": [
    {
     "name": "stdout",
     "output_type": "stream",
     "text": [
      "[ 1.80277564  1.5         1.80277564  1.11803399  0.5         1.11803399\n",
      "  1.11803399  0.5         1.11803399]\n",
      "distance [2 2] from point p: [ 2.5  2. ] is: 0.5\n"
     ]
    }
   ],
   "source": [
    "distances = np.zeros(points.shape[0])\n",
    "#loop over all points\n",
    "for i in range(len(distances)):\n",
    "    distances[i] = distance(p, points[i])\n",
    "    #compute the distance between point p and every other point\n",
    "print (distances)\n",
    "print \"distance\", (points[4]), \"from point p:\", (p), \"is:\", (distances[4])\n",
    "\n",
    "# sort distances and return those k points that are nearest to poitn p"
   ]
  },
  {
   "cell_type": "markdown",
   "metadata": {},
   "source": [
    "numpy <b>argsort</b> - sort the given array"
   ]
  },
  {
   "cell_type": "code",
   "execution_count": 63,
   "metadata": {},
   "outputs": [
    {
     "name": "stdout",
     "output_type": "stream",
     "text": [
      "distances [ 1.80277564  1.5         1.80277564  1.11803399  0.5         1.11803399\n",
      "  1.11803399  0.5         1.11803399]\n",
      "ind [4 7 3 5 6 8 1 0 2]\n",
      "sorted distances [ 0.5         0.5         1.11803399  1.11803399  1.11803399  1.11803399\n",
      "  1.5         1.80277564  1.80277564]\n",
      "first two [ 0.5  0.5]\n"
     ]
    }
   ],
   "source": [
    "print \"distances\",(distances)\n",
    "ind = np.argsort(distances)\n",
    "print \"ind\",(ind)\n",
    "print \"sorted distances\",(distances[ind])\n",
    "print \"first two\", (distances[ind[0:2]])"
   ]
  },
  {
   "cell_type": "code",
   "execution_count": 82,
   "metadata": {},
   "outputs": [
    {
     "name": "stdout",
     "output_type": "stream",
     "text": [
      "[[ 1.76577476  2.04728917]\n",
      " [ 2.43445255  1.25015026]\n",
      " [ 1.62335035  1.51836946]]\n",
      "[[ 1.76577476  2.04728917]\n",
      " [ 2.43445255  1.25015026]\n",
      " [ 1.62335035  1.51836946]\n",
      " [ 1.91394914  1.18157145]]\n"
     ]
    }
   ],
   "source": [
    "def find_nearest_neighbor(p, points, k=5):\n",
    "    \"\"\"find the k nearest neighbors of point p and return their indicies.\"\"\"\n",
    "    distances = np.zeros(points.shape[0])\n",
    "    for i in range(len(distances)):\n",
    "        distances[i] = distance(p, points[i])\n",
    "    ind = np.argsort(distances)\n",
    "    return ind[:k]\n",
    "\n",
    "indk3 = find_nearest_neighbor(p, points, 3); print(points[indk3])\n",
    "indk4 = find_nearest_neighbor(p, points, 4); print(points[indk4])"
   ]
  },
  {
   "cell_type": "code",
   "execution_count": 83,
   "metadata": {},
   "outputs": [],
   "source": [
    "def knn_predict(p, points, outcomes, k=5):\n",
    "    #find k nearest neighbors\n",
    "    ind = find_nearest_neighbor(p, points, k)\n",
    "    return majority_vote(outcomes[ind])\n",
    "    # predict the class of p based on majority vote"
   ]
  },
  {
   "cell_type": "code",
   "execution_count": 86,
   "metadata": {},
   "outputs": [
    {
     "name": "stdout",
     "output_type": "stream",
     "text": [
      "9\n"
     ]
    },
    {
     "ename": "IndexError",
     "evalue": "index 91 is out of bounds for axis 1 with size 9",
     "output_type": "error",
     "traceback": [
      "\u001b[1;31m\u001b[0m",
      "\u001b[1;31mIndexError\u001b[0mTraceback (most recent call last)",
      "\u001b[1;32m<ipython-input-86-4d317c0df8a7>\u001b[0m in \u001b[0;36m<module>\u001b[1;34m()\u001b[0m\n\u001b[0;32m      1\u001b[0m \u001b[0moutcomes_samp\u001b[0m \u001b[1;33m=\u001b[0m \u001b[0mnp\u001b[0m\u001b[1;33m.\u001b[0m\u001b[0marray\u001b[0m\u001b[1;33m(\u001b[0m\u001b[1;33m[\u001b[0m\u001b[1;36m0\u001b[0m\u001b[1;33m,\u001b[0m\u001b[1;36m0\u001b[0m\u001b[1;33m,\u001b[0m\u001b[1;36m0\u001b[0m\u001b[1;33m,\u001b[0m\u001b[1;36m0\u001b[0m\u001b[1;33m,\u001b[0m\u001b[1;36m1\u001b[0m\u001b[1;33m,\u001b[0m\u001b[1;36m1\u001b[0m\u001b[1;33m,\u001b[0m\u001b[1;36m1\u001b[0m\u001b[1;33m,\u001b[0m\u001b[1;36m1\u001b[0m\u001b[1;33m,\u001b[0m\u001b[1;36m1\u001b[0m\u001b[1;33m]\u001b[0m\u001b[1;33m)\u001b[0m\u001b[1;33m\u001b[0m\u001b[0m\n\u001b[0;32m      2\u001b[0m \u001b[1;32mprint\u001b[0m \u001b[1;33m(\u001b[0m\u001b[0mlen\u001b[0m\u001b[1;33m(\u001b[0m\u001b[0moutcomes_samp\u001b[0m\u001b[1;33m)\u001b[0m\u001b[1;33m)\u001b[0m\u001b[1;33m\u001b[0m\u001b[0m\n\u001b[1;32m----> 3\u001b[1;33m \u001b[1;32mprint\u001b[0m \u001b[1;33m(\u001b[0m\u001b[0mknn_predict\u001b[0m\u001b[1;33m(\u001b[0m\u001b[0mnp\u001b[0m\u001b[1;33m.\u001b[0m\u001b[0marray\u001b[0m\u001b[1;33m(\u001b[0m\u001b[1;33m[\u001b[0m\u001b[1;36m2.5\u001b[0m\u001b[1;33m,\u001b[0m\u001b[1;36m2.7\u001b[0m\u001b[1;33m]\u001b[0m\u001b[1;33m)\u001b[0m\u001b[1;33m,\u001b[0m \u001b[0mpoints\u001b[0m\u001b[1;33m,\u001b[0m \u001b[0moutcomes\u001b[0m\u001b[1;33m,\u001b[0m \u001b[0mk\u001b[0m\u001b[1;33m=\u001b[0m\u001b[1;36m2\u001b[0m\u001b[1;33m)\u001b[0m\u001b[1;33m)\u001b[0m\u001b[1;33m\u001b[0m\u001b[0m\n\u001b[0m\u001b[0;32m      4\u001b[0m \u001b[1;32mprint\u001b[0m \u001b[1;33m(\u001b[0m\u001b[0mknn_predict\u001b[0m\u001b[1;33m(\u001b[0m\u001b[0mnp\u001b[0m\u001b[1;33m.\u001b[0m\u001b[0marray\u001b[0m\u001b[1;33m(\u001b[0m\u001b[1;33m[\u001b[0m\u001b[1;36m1.0\u001b[0m\u001b[1;33m,\u001b[0m\u001b[1;36m2.7\u001b[0m\u001b[1;33m]\u001b[0m\u001b[1;33m)\u001b[0m\u001b[1;33m,\u001b[0m \u001b[0mpoints\u001b[0m\u001b[1;33m,\u001b[0m \u001b[0moutcomes\u001b[0m\u001b[1;33m,\u001b[0m \u001b[0mk\u001b[0m\u001b[1;33m=\u001b[0m\u001b[1;36m2\u001b[0m\u001b[1;33m)\u001b[0m\u001b[1;33m)\u001b[0m\u001b[1;33m\u001b[0m\u001b[0m\n",
      "\u001b[1;32m<ipython-input-83-94ea5c9c9477>\u001b[0m in \u001b[0;36mknn_predict\u001b[1;34m(p, points, outcomes, k)\u001b[0m\n\u001b[0;32m      2\u001b[0m     \u001b[1;31m#find k nearest neighbors\u001b[0m\u001b[1;33m\u001b[0m\u001b[1;33m\u001b[0m\u001b[0m\n\u001b[0;32m      3\u001b[0m     \u001b[0mind\u001b[0m \u001b[1;33m=\u001b[0m \u001b[0mfind_nearest_neighbor\u001b[0m\u001b[1;33m(\u001b[0m\u001b[0mp\u001b[0m\u001b[1;33m,\u001b[0m \u001b[0mpoints\u001b[0m\u001b[1;33m,\u001b[0m \u001b[0mk\u001b[0m\u001b[1;33m)\u001b[0m\u001b[1;33m\u001b[0m\u001b[0m\n\u001b[1;32m----> 4\u001b[1;33m     \u001b[1;32mreturn\u001b[0m \u001b[0mmajority_vote\u001b[0m\u001b[1;33m(\u001b[0m\u001b[0moutcomes\u001b[0m\u001b[1;33m[\u001b[0m\u001b[0mind\u001b[0m\u001b[1;33m]\u001b[0m\u001b[1;33m)\u001b[0m\u001b[1;33m\u001b[0m\u001b[0m\n\u001b[0m\u001b[0;32m      5\u001b[0m     \u001b[1;31m# predict the class of p based on majority vote\u001b[0m\u001b[1;33m\u001b[0m\u001b[1;33m\u001b[0m\u001b[0m\n",
      "\u001b[1;31mIndexError\u001b[0m: index 91 is out of bounds for axis 1 with size 9"
     ]
    }
   ],
   "source": [
    "outcomes_samp = np.array([0,0,0,0,1,1,1,1,1])\n",
    "print (len(outcomes_samp))\n",
    "print (knn_predict(np.array([2.5,2.7]), points, outcomes, k=2))\n",
    "print (knn_predict(np.array([1.0,2.7]), points, outcomes, k=2))"
   ]
  },
  {
   "cell_type": "markdown",
   "metadata": {},
   "source": [
    "### Generating Synthetic Data\n",
    " - create two end points where \n",
    "     - first end points are from class <b>0</b>\n",
    "     - second end points are from class <b>1</b>\n",
    "Generate predictors from two bivariate normal distributions where the first distribution gives rise to observations belonging to `class 0` and the second gives rise to observations belonging to `class 1`.<br><b>bivariate</b> - two variables eg. `(x,y)`\n",
    "\n",
    "<b>ipstats module<b> "
   ]
  },
  {
   "cell_type": "code",
   "execution_count": 67,
   "metadata": {},
   "outputs": [],
   "source": [
    "from scipy import stats as ss"
   ]
  },
  {
   "cell_type": "code",
   "execution_count": 68,
   "metadata": {},
   "outputs": [
    {
     "data": {
      "text/plain": [
       "array([[-1.15528215, -0.39638443],\n",
       "       [-0.58993097,  2.20571013],\n",
       "       [ 0.55363275, -0.82014188],\n",
       "       [-0.88586071,  0.41473918],\n",
       "       [-0.84488041, -2.58239353]])"
      ]
     },
     "execution_count": 68,
     "metadata": {},
     "output_type": "execute_result"
    }
   ],
   "source": [
    "ss.norm(0,1).rvs((5,2))\n",
    "# specify the mean and standard deviation \n",
    "#for observations coming from class 1\n",
    "# 5 rows and 2 columns of observations"
   ]
  },
  {
   "cell_type": "code",
   "execution_count": 69,
   "metadata": {},
   "outputs": [
    {
     "data": {
      "text/plain": [
       "array([[ 0.5972201 , -0.06913943],\n",
       "       [ 1.11468352,  2.17976593],\n",
       "       [ 1.60948255,  1.19144751],\n",
       "       [ 0.36604308,  1.17007315],\n",
       "       [ 0.57790026,  1.66235774]])"
      ]
     },
     "execution_count": 69,
     "metadata": {},
     "output_type": "execute_result"
    }
   ],
   "source": [
    "ss.norm(1,1).rvs((5,2))"
   ]
  },
  {
   "cell_type": "code",
   "execution_count": 70,
   "metadata": {},
   "outputs": [
    {
     "data": {
      "text/plain": [
       "array([[-0.91100359, -1.36874919],\n",
       "       [-0.55123508,  1.40421534],\n",
       "       [-0.52791174,  0.33071936],\n",
       "       [-0.88171912,  0.14366679],\n",
       "       [-0.37258227, -1.01197866],\n",
       "       [ 0.49207076,  1.19151441],\n",
       "       [ 4.07145783,  1.14664553],\n",
       "       [ 1.29991064,  1.42171954],\n",
       "       [ 0.79007975, -0.13049923],\n",
       "       [ 2.34522224,  0.62054373]])"
      ]
     },
     "execution_count": 70,
     "metadata": {},
     "output_type": "execute_result"
    }
   ],
   "source": [
    "# concatenate two arrays\n",
    "np.concatenate((ss.norm(0,1).rvs((5,2)),\n",
    "               ss.norm(1,1).rvs((5,2))), axis=0)\n",
    "# axis = 0 along the rows"
   ]
  },
  {
   "cell_type": "code",
   "execution_count": 71,
   "metadata": {},
   "outputs": [
    {
     "data": {
      "text/plain": [
       "(array([[ 0.75727176, -0.04935679],\n",
       "        [-0.24986147, -0.09727626],\n",
       "        [ 1.16302561,  1.25498843],\n",
       "        [ 0.16189769, -0.66246763],\n",
       "        [-0.12438478, -3.44333212],\n",
       "        [-1.27832208, -0.85153059],\n",
       "        [-1.25323091, -0.73895981],\n",
       "        [-0.22543871, -0.16610863],\n",
       "        [ 1.453803  ,  0.31963969],\n",
       "        [-0.07902748,  0.45206567],\n",
       "        [-0.57186767, -0.72931112],\n",
       "        [ 0.53933999,  0.98942824],\n",
       "        [-0.35464654, -2.3450716 ],\n",
       "        [ 1.19875782, -0.32564591],\n",
       "        [ 1.65885429,  0.86384623],\n",
       "        [ 0.05584903, -0.186557  ],\n",
       "        [ 0.13852989, -0.04904833],\n",
       "        [ 0.37398647, -0.49185664],\n",
       "        [-1.039078  ,  0.28038847],\n",
       "        [ 0.12711907, -0.92814656],\n",
       "        [ 1.74382284,  1.05769132],\n",
       "        [ 0.42843947,  0.14197559],\n",
       "        [-1.30385349, -0.28173516],\n",
       "        [ 1.00504497,  1.15723298],\n",
       "        [ 1.47937993, -1.1583349 ],\n",
       "        [-1.31109899,  1.54412592],\n",
       "        [ 0.15975568,  0.46481401],\n",
       "        [-0.86104398,  2.2433487 ],\n",
       "        [-1.6154128 ,  0.37313506],\n",
       "        [-1.11697538,  1.87389764],\n",
       "        [ 0.58715372,  0.43701046],\n",
       "        [ 0.124515  , -0.39061601],\n",
       "        [ 0.83332703,  0.38190786],\n",
       "        [ 2.28380402, -0.29131254],\n",
       "        [ 0.15654267, -1.30011548],\n",
       "        [ 1.16480211,  0.99784331],\n",
       "        [-0.19225068, -0.83213858],\n",
       "        [-0.79824881, -2.02153217],\n",
       "        [-0.43036673, -0.38833197],\n",
       "        [-0.91398925,  0.45561225],\n",
       "        [-1.39867516,  2.60459394],\n",
       "        [-1.12941936,  0.86230377],\n",
       "        [-0.57440389, -1.26259435],\n",
       "        [ 0.5628233 ,  0.73298699],\n",
       "        [ 0.94945819, -0.94579278],\n",
       "        [-0.88978339, -0.92416776],\n",
       "        [ 0.71188873,  1.84123495],\n",
       "        [-1.23026665, -0.92180093],\n",
       "        [-0.80134203,  0.77133793],\n",
       "        [-1.26829293, -0.01397261],\n",
       "        [ 0.54214081,  0.83502984],\n",
       "        [-1.21106912,  0.30083376],\n",
       "        [ 0.3257022 ,  0.81024228],\n",
       "        [ 1.62335035,  1.51836946],\n",
       "        [ 1.37256597,  1.30661594],\n",
       "        [ 1.7448227 ,  0.86714325],\n",
       "        [ 1.46763085,  0.23776723],\n",
       "        [ 2.35895261,  0.27961464],\n",
       "        [ 0.47512561,  3.4650631 ],\n",
       "        [ 0.24379731,  1.84801333],\n",
       "        [-0.43217064,  0.45362068],\n",
       "        [-1.44422831,  2.23720026],\n",
       "        [ 1.91394914,  1.18157145],\n",
       "        [ 0.71453277,  0.44705572],\n",
       "        [ 0.62100595,  1.88738426],\n",
       "        [ 0.53339652,  0.5108916 ],\n",
       "        [ 1.61878085,  1.25272528],\n",
       "        [ 1.8092636 ,  1.09857143],\n",
       "        [-0.45807152,  1.34551294],\n",
       "        [ 0.12148014,  0.73013666],\n",
       "        [-0.30391335,  1.05810264],\n",
       "        [ 1.8659065 ,  0.98767988],\n",
       "        [ 2.43445255,  1.25015026],\n",
       "        [ 1.29624475,  0.74497006],\n",
       "        [ 0.62558123,  1.00439242],\n",
       "        [-0.60919178,  1.88375733],\n",
       "        [ 1.76248835,  1.14393507],\n",
       "        [ 2.32276931,  0.94415722],\n",
       "        [ 0.59826604,  2.16712131],\n",
       "        [-0.55691808,  0.87812569],\n",
       "        [ 1.11536112, -0.39522936],\n",
       "        [ 1.37025261,  0.3209145 ],\n",
       "        [-0.53209617, -0.21233176],\n",
       "        [ 0.72887724,  1.41433149],\n",
       "        [ 0.38107866,  0.59369515],\n",
       "        [ 0.44866019,  0.32617678],\n",
       "        [ 0.21140662, -0.66567988],\n",
       "        [ 1.32629265, -0.00888548],\n",
       "        [ 0.68461572,  0.78140701],\n",
       "        [ 0.87688626,  1.71788893],\n",
       "        [ 1.13955115,  1.30488315],\n",
       "        [ 1.76577476,  2.04728917],\n",
       "        [ 1.86742259,  1.05676496],\n",
       "        [ 0.66604941,  0.91895016],\n",
       "        [ 1.74941919,  0.91103709],\n",
       "        [ 1.23464587, -0.28793817],\n",
       "        [ 0.51185509,  0.84623924],\n",
       "        [ 1.3178233 ,  1.01888071],\n",
       "        [ 2.26955252, -0.2289857 ],\n",
       "        [ 1.84988933, -0.01336686]]),\n",
       " array([0, 0, 0, 0, 0, 0, 0, 0, 0, 0, 0, 0, 0, 0, 0, 0, 0, 0, 0, 0, 0, 0, 0,\n",
       "        0, 0, 0, 0, 0, 0, 0, 0, 0, 0, 0, 0, 0, 0, 0, 0, 0, 0, 0, 0, 0, 0, 0,\n",
       "        0, 0, 0, 0, 1, 1, 1, 1, 1, 1, 1, 1, 1, 1, 1, 1, 1, 1, 1, 1, 1, 1, 1,\n",
       "        1, 1, 1, 1, 1, 1, 1, 1, 1, 1, 1, 1, 1, 1, 1, 1, 1, 1, 1, 1, 1, 1, 1,\n",
       "        1, 1, 1, 1, 1, 1, 1, 1]))"
      ]
     },
     "execution_count": 71,
     "metadata": {},
     "output_type": "execute_result"
    }
   ],
   "source": [
    "# in a function\n",
    "def generate_synth_data(n = 50):\n",
    "    \"\"\"create two sets of points from bivariate normal distribution\"\"\"\n",
    "    points = np.concatenate((ss.norm(0,1).rvs((n,2)),\n",
    "               ss.norm(1,1).rvs((n,2))), axis=0)\n",
    "    outcomes = np.concatenate((np.repeat(0, n), np.repeat(1, n)))\n",
    "# repeat 0 n times   # repeat 1 n times\n",
    "    return (points, outcomes)\n",
    "generate_synth_data()\n",
    "(points, outcomes)=generate_synth_data(n)\n",
    "(points, outcomes)"
   ]
  },
  {
   "cell_type": "code",
   "execution_count": 72,
   "metadata": {},
   "outputs": [
    {
     "data": {
      "text/plain": [
       "[<matplotlib.lines.Line2D at 0xaaba5c0>]"
      ]
     },
     "execution_count": 72,
     "metadata": {},
     "output_type": "execute_result"
    },
    {
     "data": {
      "image/png": "[encoded data removed]",
      "text/plain": [
       "<matplotlib.figure.Figure at 0xaa0eb38>"
      ]
     },
     "metadata": {},
     "output_type": "display_data"
    }
   ],
   "source": [
    "plt.figure()\n",
    "# :n = first n rows\n",
    "# 0 column 0 - x coordinates\n",
    "# 1 column 1 - y coordinates\n",
    "plt.plot(points[:n,0], points[:n,1], \"ro\")\n",
    "# n: remaining rows \n",
    "plt.plot(points[n:,0], points[n:,1], \"bo\") "
   ]
  },
  {
   "cell_type": "markdown",
   "metadata": {},
   "source": [
    "### Making a Prediction Grid\n",
    "examine some part of the predictor space and compute the class prediction for each point in the grid using the knn classifier - find out how each point is classified in a rectangular region of the predictor space. "
   ]
  },
  {
   "cell_type": "code",
   "execution_count": 73,
   "metadata": {
    "collapsed": true
   },
   "outputs": [],
   "source": [
    "def make_prediction_grid(predictors, outcomes, limits, h , k):\n",
    "    \"\"\"classify each point on the prediciton grid.\"\"\"\n",
    "    # unpack tuple limits\n",
    "    (x_min, x_max, y_min, y_max) = limits\n",
    "    xs = np.arange(x_min, x_max, h)\n",
    "    # np.arrange(start, stop, step)\n",
    "    # even spaces values within a given interval\n",
    "    ys = np.arange(y_min, y_max, h)\n",
    "    xx, yy = np.meshgrid(xs, ys)\n",
    "    \n",
    "    prediction_grid = np.zeros(xx.shape, dtype = int)\n",
    "    # loop over all x values\n",
    "    # loop over all y values\n",
    "    # ask knn predict algorithm or function to predict the class label\n",
    "    # capture points in prediction grid array\n",
    "    for i,x in enumerate(xs):\n",
    "        for j,y in enumerate(ys):\n",
    "            # specify and index using square brackets the first argument is role of the array\n",
    "            #corresponding index locations in the xs and ys vectors\n",
    "            p = np.array([x,y])\n",
    "            prediction_grid[j,i]=knn_predict(p, predictors, outcomes, k)\n",
    "            # k = number of points to be considerend when making class labeled predictions for point  p\n",
    "    return (xx, yy, prediction_grid)"
   ]
  },
  {
   "cell_type": "markdown",
   "metadata": {},
   "source": [
    "<b>meshgrid</b> takes in two or more vectors and returns matricies for the first containing the x values for each grid point and the second containing the y values for each grid point <br/>\n",
    "<b>enumerate</b> dealing with sequences need access to two things - like an index - sequence of tuples - (index , item)"
   ]
  },
  {
   "cell_type": "code",
   "execution_count": 74,
   "metadata": {},
   "outputs": [
    {
     "name": "stdout",
     "output_type": "stream",
     "text": [
      "0 spring\n",
      "1 summer\n",
      "2 fall\n",
      "3 winter\n"
     ]
    }
   ],
   "source": [
    "seasons = [\"spring\", \"summer\", \"fall\", \"winter\"]\n",
    "for ind, season in enumerate(seasons):\n",
    "    print ind, season"
   ]
  },
  {
   "cell_type": "markdown",
   "metadata": {},
   "source": [
    "### Plotting the Prediction Grid\n",
    "small value - decision boundary is more smooth the larger the value of k. k controls the smoothness of the fit"
   ]
  },
  {
   "cell_type": "code",
   "execution_count": 79,
   "metadata": {},
   "outputs": [
    {
     "name": "stdout",
     "output_type": "stream",
     "text": [
      "(100L, 2L)\n",
      "(100L,)\n"
     ]
    },
    {
     "ename": "NameError",
     "evalue": "name 'plot_prediction_grid' is not defined",
     "output_type": "error",
     "traceback": [
      "\u001b[1;31m\u001b[0m",
      "\u001b[1;31mNameError\u001b[0mTraceback (most recent call last)",
      "\u001b[1;32m<ipython-input-79-7f5a0763338f>\u001b[0m in \u001b[0;36m<module>\u001b[1;34m()\u001b[0m\n\u001b[0;32m      4\u001b[0m \u001b[0mk\u001b[0m\u001b[1;33m=\u001b[0m\u001b[1;36m5\u001b[0m\u001b[1;33m;\u001b[0m \u001b[0mfilename\u001b[0m\u001b[1;33m=\u001b[0m\u001b[1;34m\"knn_synth_5.pdf\"\u001b[0m\u001b[1;33m;\u001b[0m \u001b[0mlimits\u001b[0m\u001b[1;33m=\u001b[0m\u001b[1;33m(\u001b[0m\u001b[1;33m-\u001b[0m\u001b[1;36m3\u001b[0m\u001b[1;33m,\u001b[0m\u001b[1;36m4\u001b[0m\u001b[1;33m,\u001b[0m\u001b[1;33m-\u001b[0m\u001b[1;36m3\u001b[0m\u001b[1;33m,\u001b[0m\u001b[1;36m4\u001b[0m\u001b[1;33m)\u001b[0m\u001b[1;33m;\u001b[0m \u001b[0mh\u001b[0m\u001b[1;33m=\u001b[0m\u001b[1;36m0.1\u001b[0m\u001b[1;33m\u001b[0m\u001b[0m\n\u001b[0;32m      5\u001b[0m \u001b[1;33m(\u001b[0m\u001b[0mxx\u001b[0m\u001b[1;33m,\u001b[0m \u001b[0myy\u001b[0m\u001b[1;33m,\u001b[0m \u001b[0mprediction_grid\u001b[0m\u001b[1;33m)\u001b[0m \u001b[1;33m=\u001b[0m \u001b[0mmake_prediction_grid\u001b[0m\u001b[1;33m(\u001b[0m\u001b[0mpredictors\u001b[0m\u001b[1;33m,\u001b[0m \u001b[0moutcomes\u001b[0m\u001b[1;33m,\u001b[0m \u001b[0mlimits\u001b[0m\u001b[1;33m,\u001b[0m \u001b[0mh\u001b[0m\u001b[1;33m,\u001b[0m \u001b[0mk\u001b[0m\u001b[1;33m)\u001b[0m\u001b[1;33m\u001b[0m\u001b[0m\n\u001b[1;32m----> 6\u001b[1;33m \u001b[0mplot_prediction_grid\u001b[0m\u001b[1;33m(\u001b[0m\u001b[0mxx\u001b[0m\u001b[1;33m,\u001b[0m \u001b[0myy\u001b[0m\u001b[1;33m,\u001b[0m \u001b[0mprediction_grid\u001b[0m\u001b[1;33m,\u001b[0m \u001b[0mfilename\u001b[0m\u001b[1;33m)\u001b[0m\u001b[1;33m\u001b[0m\u001b[0m\n\u001b[0m",
      "\u001b[1;31mNameError\u001b[0m: name 'plot_prediction_grid' is not defined"
     ]
    }
   ],
   "source": [
    "(predictors, outcomes) = generate_synth_data(n)\n",
    "print (predictors.shape)\n",
    "print (outcomes.shape)\n",
    "k=5; filename=\"knn_synth_5.pdf\"; limits=(-3,4,-3,4); h=0.1\n",
    "(xx, yy, prediction_grid) = make_prediction_grid(predictors, outcomes, limits, h, k)\n",
    "plot_prediction_grid(xx, yy, prediction_grid, filename)"
   ]
  },
  {
   "cell_type": "code",
   "execution_count": null,
   "metadata": {
    "collapsed": true
   },
   "outputs": [],
   "source": []
  }
 ],
 "metadata": {
  "kernelspec": {
   "display_name": "Python [default]",
   "language": "python",
   "name": "python2"
  },
  "language_info": {
   "codemirror_mode": {
    "name": "ipython",
    "version": 2
   },
   "file_extension": ".py",
   "mimetype": "text/x-python",
   "name": "python",
   "nbconvert_exporter": "python",
   "pygments_lexer": "ipython2",
   "version": "2.7.13"
  }
 },
 "nbformat": 4,
 "nbformat_minor": 2
}
