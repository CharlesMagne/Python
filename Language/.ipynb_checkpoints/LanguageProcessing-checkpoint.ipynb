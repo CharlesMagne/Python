{
 "cells": [
  {
   "cell_type": "markdown",
   "metadata": {},
   "source": [
    "## Language Processing\n",
    "Examine Properties of individual books\n",
    "    - book lenth\n",
    "    - number of unique words\n",
    "    - how attributes cluster by language or authorship\n",
    "\n",
    "<b> Project Gutenberg </b> - oldest digital library of books with over 50,000 books\n",
    "are in a public domain - can be downloaded and read for free"
   ]
  },
  {
   "cell_type": "code",
   "execution_count": 15,
   "metadata": {
    "collapsed": true
   },
   "outputs": [],
   "source": [
    "text = \"This is a sentence. First words of sentences start with a capital letter and end with a period, question mark, or exclamation in the English language.\""
   ]
  },
  {
   "cell_type": "code",
   "execution_count": 16,
   "metadata": {
    "collapsed": false
   },
   "outputs": [
    {
     "name": "stdout",
     "output_type": "stream",
     "text": [
      "{'and': 1, 'words': 1, 'is': 1, 'sentences': 1, 'in': 1, 'exclamation': 1, 'end': 1, 'question': 1, 'start': 1, 'capital': 1, 'sentence.': 1, 'This': 1, 'period,': 1, 'letter': 1, 'English': 1, 'with': 2, 'First': 1, 'a': 3, 'mark,': 1, 'of': 1, 'language.': 1, 'the': 1, 'or': 1}\n"
     ]
    }
   ],
   "source": [
    "def count_words(text):\n",
    "    \"\"\"\n",
    "    count the number of times each word occurs in text.\n",
    "    Returns dictionary key = words and values = word count_words\n",
    "    \"\"\"\n",
    "    word_counts = {}\n",
    "    for word in text.split(\" \"):\n",
    "        if word in word_counts:\n",
    "            word_counts[word] += 1\n",
    "        else:\n",
    "            word_counts[word] = 1\n",
    "    return word_counts\n",
    "\n",
    "print (count_words(text))"
   ]
  },
  {
   "cell_type": "markdown",
   "metadata": {},
   "source": [
    "Periods and puncuations are counted as words along with mixed case words\"\n",
    "Can address mixed case words my making the string all lowercase.\n",
    "Addressing punctuaction - specify all the punctuations to skip then loop over that container\n",
    "and replace every occurrence of a punctuaction with an empty string"
   ]
  },
  {
   "cell_type": "code",
   "execution_count": 17,
   "metadata": {
    "collapsed": false
   },
   "outputs": [
    {
     "name": "stdout",
     "output_type": "stream",
     "text": [
      "{'and': 1, 'words': 1, 'sentence': 1, 'is': 1, 'sentences': 1, 'period': 1, 'in': 1, 'exclamation': 1, 'end': 1, 'question': 1, 'mark': 1, 'start': 1, 'capital': 1, 'letter': 1, 'with': 2, 'a': 3, 'language': 1, 'this': 1, 'of': 1, 'english': 1, 'the': 1, 'or': 1, 'first': 1}\n"
     ]
    }
   ],
   "source": [
    "def count_words2(text):\n",
    "    \"\"\"\n",
    "    count the number of times each word occurs in text.\n",
    "    Returns dictionary key = words and values = word count_words\n",
    "    accounts for mixed case words and punctuaction\n",
    "    \"\"\"\n",
    "    text = text.lower()\n",
    "    skips = [\".\", \",\", \":\", \";\", \"?\", \"!\", '\"\"', \"''\" ]\n",
    "    for ch in skips:\n",
    "        text = text.replace(ch, \"\")\n",
    "    word_counts = {}\n",
    "    for word in text.split(\" \"):\n",
    "        if word in word_counts:\n",
    "            word_counts[word] += 1\n",
    "        else:\n",
    "            word_counts[word] = 1\n",
    "    return word_counts\n",
    "\n",
    "print (count_words2(text))\n"
   ]
  },
  {
   "cell_type": "markdown",
   "metadata": {},
   "source": [
    "Python provides a counter tool from the Collections module\""
   ]
  },
  {
   "cell_type": "code",
   "execution_count": 18,
   "metadata": {
    "collapsed": false
   },
   "outputs": [
    {
     "name": "stdout",
     "output_type": "stream",
     "text": [
      "Counter({'a': 3, 'with': 2, 'and': 1, 'words': 1, 'sentence': 1, 'is': 1, 'sentences': 1, 'period': 1, 'in': 1, 'exclamation': 1, 'end': 1, 'question': 1, 'mark': 1, 'start': 1, 'capital': 1, 'letter': 1, 'language': 1, 'this': 1, 'of': 1, 'english': 1, 'the': 1, 'or': 1, 'first': 1})\n",
      "True\n",
      "6\n",
      "False\n"
     ]
    }
   ],
   "source": [
    "from collections import Counter\n",
    "def count_words_faster(text):\n",
    "    text = text.lower()\n",
    "    skips = [\".\", \",\", \":\", \";\", \"?\", \"!\", '\"\"', \"''\" ]\n",
    "    for ch in skips:\n",
    "        text = text.replace(ch, \"\")\n",
    "    word_counts = Counter(text.split(\" \"))\n",
    "    return word_counts\n",
    "\n",
    "print (count_words_faster(text))\n",
    "\n",
    "print (count_words2(text) == count_words_faster(text))\n",
    "\n",
    "print (len(count_words2(\"This comprehension check is to check for comprehension.\")))\n",
    "\n",
    "print (count_words2(text) is count_words_faster(text))"
   ]
  },
  {
   "cell_type": "markdown",
   "metadata": {},
   "source": [
    "### Reading in a Book\n",
    "Character encoding = how a computer reads characters\n",
    "UTF-8 dominant encoding"
   ]
  },
  {
   "cell_type": "code",
   "execution_count": 19,
   "metadata": {
    "collapsed": true
   },
   "outputs": [],
   "source": [
    "def read_book(title_path):\n",
    "    \"\"\"\n",
    "    Read a book and return it as a string\n",
    "    \"\"\"\n",
    "    with open(title_path, \"r\", encoding=\"utf-8\") as current_file:\n",
    "        text = current_file.read()\n",
    "        text.replace(\"\\n\", \"\").replace(\"\\r\",\"\")\n",
    "    return text"
   ]
  },
  {
   "cell_type": "code",
   "execution_count": 20,
   "metadata": {
    "collapsed": false
   },
   "outputs": [
    {
     "name": "stdout",
     "output_type": "stream",
     "text": [
      "('Number of characters in Romeo and Juliet:', 174128)\n"
     ]
    }
   ],
   "source": [
    "text_book = read_book(\"./Books/English/shakespeare/Romeo and Juliet.txt\")\n",
    "\n",
    "print (\"Number of characters in Romeo and Juliet:\",len(text_book))"
   ]
  },
  {
   "cell_type": "code",
   "execution_count": 21,
   "metadata": {
    "collapsed": false
   },
   "outputs": [
    {
     "name": "stdout",
     "output_type": "stream",
     "text": [
      "44114\n",
      "What's in a name? That which we call a rose\n",
      "    By any other name would smell as sweet.\n",
      "    So Romeo would, were he not Romeo call'd,\n",
      "    Retain that dear perfection which he owes\n",
      "    Without that title. Romeo, doff thy name;\n",
      "    And for that name, which is no part of thee,\n",
      "    Take all myself.\n",
      "\n",
      "  Rom. I take thee at thy word.\n",
      "    Call me but love, and I'll be new baptiz'd;\n",
      "    Henceforth I never will be Romeo.\n",
      "\n",
      "  Jul. What man art thou that, thus bescreen'd in night,\n",
      "    So stumblest on my counsel?\n",
      "\n",
      "  Rom. By a name\n",
      "    I know not how to tell thee who I am.\n",
      "    My name, dear saint, is hateful to myself,\n",
      "    Because it is an enemy to thee.\n",
      "    Had I it written, I would tear the word.\n",
      "\n",
      "  Jul. My ears have yet not drunk a hundred words\n",
      "    Of that tongue's utterance, yet I know the sound.\n",
      "    Art thou not Romeo, and a Montague?\n",
      "\n",
      "  Rom. Neither, fair saint, if either thee dislike.\n",
      "\n",
      "  Jul. How cam'st thou hither, tell me, and wherefore?\n",
      "    The orchard walls are high and hard to climb,\n",
      "   \n"
     ]
    }
   ],
   "source": [
    "ind = text_book.find(\"What's in a name?\")\n",
    "print (ind)\n",
    "\n",
    "sample_text = text_book[ind:ind + 1000]\n",
    "print (sample_text)"
   ]
  },
  {
   "cell_type": "markdown",
   "metadata": {},
   "source": [
    "### Computing Word Frequency Statistics\n",
    "how many unique words and frequency in a given book"
   ]
  },
  {
   "cell_type": "code",
   "execution_count": 22,
   "metadata": {
    "collapsed": false
   },
   "outputs": [
    {
     "name": "stdout",
     "output_type": "stream",
     "text": [
      "('Number of words in Romeo and Juliet:', 5926)\n",
      "('Number of unique words in Romeo and Juliet:', 40776)\n"
     ]
    }
   ],
   "source": [
    "def count_words_faster(text):\n",
    "    text = text.lower()\n",
    "    skips = [\".\", \",\", \":\", \";\", \"?\", \"!\", '\"\"', \"''\" ]\n",
    "    for ch in skips:\n",
    "        text = text.replace(ch, \"\")\n",
    "    word_counts = Counter(text.split(\" \"))\n",
    "    return word_counts\n",
    "\n",
    "def word_stats(word_counts):\n",
    "    \"\"\"return number of unique words and frequencies\"\"\"\n",
    "    num_unique = len(word_counts)\n",
    "    counts = word_counts.values()\n",
    "    return (num_unique, counts)\n",
    "\n",
    "word_counts = count_words_faster(text_book)\n",
    "(num_unique, counts) = word_stats(word_counts)\n",
    "\n",
    "print (\"Number of words in Romeo and Juliet:\",(num_unique))\n",
    "print (\"Number of unique words in Romeo and Juliet:\", sum(counts))"
   ]
  },
  {
   "cell_type": "code",
   "execution_count": 23,
   "metadata": {
    "collapsed": false
   },
   "outputs": [
    {
     "name": "stdout",
     "output_type": "stream",
     "text": [
      "('Number of characters in Romeo und Julia:', 142630)\n"
     ]
    }
   ],
   "source": [
    "text_book_German = read_book(\"./Books/German/shakespeare/Romeo und Julia.txt\")\n",
    "print (\"Number of characters in Romeo und Julia:\",len(text_book_German))"
   ]
  },
  {
   "cell_type": "code",
   "execution_count": 24,
   "metadata": {
    "collapsed": false
   },
   "outputs": [
    {
     "name": "stdout",
     "output_type": "stream",
     "text": [
      "('Number of words in Romeo und Julia:', 7407)\n",
      "('Number of unique words in Romeo und Julia:', 20311)\n"
     ]
    }
   ],
   "source": [
    "def word_stats(word_counts):\n",
    "    \"\"\"return number of unique words and frequencies\"\"\"\n",
    "    num_unique = len(word_counts)\n",
    "    counts = word_counts.values()\n",
    "    return (num_unique, counts)\n",
    "\n",
    "word_counts = count_words_faster(text_book_German)\n",
    "(num_unique, counts) = word_stats(word_counts)\n",
    "\n",
    "print (\"Number of words in Romeo und Julia:\",num_unique)\n",
    "print (\"Number of unique words in Romeo und Julia:\", sum(counts))"
   ]
  },
  {
   "cell_type": "markdown",
   "metadata": {},
   "source": [
    "### Reading Multiple Files\n",
    "read every book in the various subdirectories of the Books folder <br/>\n",
    "`import os`"
   ]
  },
  {
   "cell_type": "code",
   "execution_count": 25,
   "metadata": {
    "collapsed": true
   },
   "outputs": [],
   "source": [
    "import os"
   ]
  },
  {
   "cell_type": "code",
   "execution_count": 26,
   "metadata": {
    "collapsed": false
   },
   "outputs": [
    {
     "data": {
      "text/plain": [
       "['English', 'French', 'German', 'Portuguese']"
      ]
     },
     "execution_count": 26,
     "metadata": {},
     "output_type": "execute_result"
    }
   ],
   "source": [
    "book_dir = \"./Books\"\n",
    "os.listdir(book_dir)"
   ]
  },
  {
   "cell_type": "code",
   "execution_count": 27,
   "metadata": {
    "collapsed": false
   },
   "outputs": [
    {
     "ename": "IOError",
     "evalue": "[Errno 2] No such file or directory: \"./Books/French/chevalier/L'a\\xa6\\xe8le de sable.txt\"",
     "output_type": "error",
     "traceback": [
      "\u001b[0;31m\u001b[0m",
      "\u001b[0;31mIOError\u001b[0mTraceback (most recent call last)",
      "\u001b[0;32m<ipython-input-27-81d56b3da8b0>\u001b[0m in \u001b[0;36m<module>\u001b[0;34m()\u001b[0m\n\u001b[1;32m      4\u001b[0m             \u001b[0minputfile\u001b[0m \u001b[1;33m=\u001b[0m \u001b[0mbook_dir\u001b[0m \u001b[1;33m+\u001b[0m \u001b[1;34m\"/\"\u001b[0m \u001b[1;33m+\u001b[0m \u001b[0mlanguage\u001b[0m \u001b[1;33m+\u001b[0m \u001b[1;34m\"/\"\u001b[0m \u001b[1;33m+\u001b[0m \u001b[0mauthor\u001b[0m \u001b[1;33m+\u001b[0m \u001b[1;34m\"/\"\u001b[0m \u001b[1;33m+\u001b[0m \u001b[0mtitle\u001b[0m\u001b[1;33m\u001b[0m\u001b[0m\n\u001b[1;32m      5\u001b[0m             \u001b[1;31m#print (inputfile)\u001b[0m\u001b[1;33m\u001b[0m\u001b[1;33m\u001b[0m\u001b[0m\n\u001b[0;32m----> 6\u001b[0;31m             \u001b[0mtext\u001b[0m \u001b[1;33m=\u001b[0m \u001b[0mread_book\u001b[0m\u001b[1;33m(\u001b[0m\u001b[0minputfile\u001b[0m\u001b[1;33m)\u001b[0m\u001b[1;33m\u001b[0m\u001b[0m\n\u001b[0m\u001b[1;32m      7\u001b[0m             \u001b[1;33m(\u001b[0m\u001b[0mnum_unique\u001b[0m\u001b[1;33m,\u001b[0m \u001b[0mcounts\u001b[0m\u001b[1;33m)\u001b[0m \u001b[1;33m=\u001b[0m \u001b[0mword_stats\u001b[0m\u001b[1;33m(\u001b[0m\u001b[0mcount_words\u001b[0m\u001b[1;33m(\u001b[0m\u001b[0mtext\u001b[0m\u001b[1;33m)\u001b[0m\u001b[1;33m)\u001b[0m\u001b[1;33m\u001b[0m\u001b[0m\n\u001b[1;32m      8\u001b[0m             \u001b[1;31m# takes text - feeds into count_words function\u001b[0m\u001b[1;33m\u001b[0m\u001b[1;33m\u001b[0m\u001b[0m\n",
      "\u001b[0;32m<ipython-input-19-fd280c248801>\u001b[0m in \u001b[0;36mread_book\u001b[0;34m(title_path)\u001b[0m\n\u001b[1;32m      3\u001b[0m     \u001b[0mRead\u001b[0m \u001b[0ma\u001b[0m \u001b[0mbook\u001b[0m \u001b[1;32mand\u001b[0m \u001b[1;32mreturn\u001b[0m \u001b[0mit\u001b[0m \u001b[1;32mas\u001b[0m \u001b[0ma\u001b[0m \u001b[0mstring\u001b[0m\u001b[1;33m\u001b[0m\u001b[0m\n\u001b[1;32m      4\u001b[0m     \"\"\"\n\u001b[0;32m----> 5\u001b[0;31m     \u001b[1;32mwith\u001b[0m \u001b[0mopen\u001b[0m\u001b[1;33m(\u001b[0m\u001b[0mtitle_path\u001b[0m\u001b[1;33m,\u001b[0m \u001b[1;34m\"r\"\u001b[0m\u001b[1;33m,\u001b[0m \u001b[0mencoding\u001b[0m\u001b[1;33m=\u001b[0m\u001b[1;34m\"utf-8\"\u001b[0m\u001b[1;33m)\u001b[0m \u001b[1;32mas\u001b[0m \u001b[0mcurrent_file\u001b[0m\u001b[1;33m:\u001b[0m\u001b[1;33m\u001b[0m\u001b[0m\n\u001b[0m\u001b[1;32m      6\u001b[0m         \u001b[0mtext\u001b[0m \u001b[1;33m=\u001b[0m \u001b[0mcurrent_file\u001b[0m\u001b[1;33m.\u001b[0m\u001b[0mread\u001b[0m\u001b[1;33m(\u001b[0m\u001b[1;33m)\u001b[0m\u001b[1;33m\u001b[0m\u001b[0m\n\u001b[1;32m      7\u001b[0m         \u001b[0mtext\u001b[0m\u001b[1;33m.\u001b[0m\u001b[0mreplace\u001b[0m\u001b[1;33m(\u001b[0m\u001b[1;34m\"\\n\"\u001b[0m\u001b[1;33m,\u001b[0m \u001b[1;34m\"\"\u001b[0m\u001b[1;33m)\u001b[0m\u001b[1;33m.\u001b[0m\u001b[0mreplace\u001b[0m\u001b[1;33m(\u001b[0m\u001b[1;34m\"\\r\"\u001b[0m\u001b[1;33m,\u001b[0m\u001b[1;34m\"\"\u001b[0m\u001b[1;33m)\u001b[0m\u001b[1;33m\u001b[0m\u001b[0m\n",
      "\u001b[0;31mIOError\u001b[0m: [Errno 2] No such file or directory: \"./Books/French/chevalier/L'a\\xa6\\xe8le de sable.txt\""
     ]
    }
   ],
   "source": [
    "for language in os.listdir(book_dir):\n",
    "    for author in os.listdir(book_dir + \"/\" + language):\n",
    "        for title in os.listdir(book_dir + \"/\" + language + \"/\" + author):\n",
    "            inputfile = book_dir + \"/\" + language + \"/\" + author + \"/\" + title\n",
    "            #print (inputfile)\n",
    "            text = read_book(inputfile)\n",
    "            (num_unique, counts) = word_stats(count_words(text))\n",
    "            # takes text - feeds into count_words function\n",
    "            # returns an object that gets pushed into the words text function\n",
    "            # which returns as an object thats returned as a tuple\n",
    "            # unpacking a tuple"
   ]
  },
  {
   "cell_type": "markdown",
   "metadata": {},
   "source": [
    "### Pandas\n"
   ]
  },
  {
   "cell_type": "code",
   "execution_count": 4,
   "metadata": {
    "collapsed": true
   },
   "outputs": [],
   "source": [
    "import pandas as pd"
   ]
  },
  {
   "cell_type": "code",
   "execution_count": 106,
   "metadata": {
    "collapsed": false
   },
   "outputs": [
    {
     "name": "stdout",
     "output_type": "stream",
     "text": [
      "Index(['name', 'age'], dtype='object')\n"
     ]
    },
    {
     "data": {
      "text/html": [
       "<div>\n",
       "<table border=\"1\" class=\"dataframe\">\n",
       "  <thead>\n",
       "    <tr style=\"text-align: right;\">\n",
       "      <th></th>\n",
       "      <th>name</th>\n",
       "      <th>age</th>\n",
       "    </tr>\n",
       "  </thead>\n",
       "  <tbody>\n",
       "    <tr>\n",
       "      <th>1</th>\n",
       "      <td>Amber</td>\n",
       "      <td>30.0</td>\n",
       "    </tr>\n",
       "    <tr>\n",
       "      <th>2</th>\n",
       "      <td>Kumani</td>\n",
       "      <td>6.0</td>\n",
       "    </tr>\n",
       "  </tbody>\n",
       "</table>\n",
       "</div>"
      ],
      "text/plain": [
       "     name   age\n",
       "1   Amber  30.0\n",
       "2  Kumani   6.0"
      ]
     },
     "execution_count": 106,
     "metadata": {},
     "output_type": "execute_result"
    }
   ],
   "source": [
    "table = pd.DataFrame(columns = (\"name\", \"age\"))\n",
    "table.loc[1] = \"Amber\" , 30\n",
    "table.loc[2] = \"Kumani\", 6\n",
    "print (table.columns)\n",
    "table"
   ]
  },
  {
   "cell_type": "code",
   "execution_count": 14,
   "metadata": {
    "collapsed": false
   },
   "outputs": [
    {
     "ename": "IOError",
     "evalue": "[Errno 2] No such file or directory: \"./Books/French/chevalier/L'a\\xa6\\xe8le de sable.txt\"",
     "output_type": "error",
     "traceback": [
      "\u001b[0;31m\u001b[0m",
      "\u001b[0;31mIOError\u001b[0mTraceback (most recent call last)",
      "\u001b[0;32m<ipython-input-14-52c909ffc8e0>\u001b[0m in \u001b[0;36m<module>\u001b[0;34m()\u001b[0m\n\u001b[1;32m     20\u001b[0m             \u001b[0minputfile\u001b[0m \u001b[1;33m=\u001b[0m \u001b[0mbook_dir\u001b[0m \u001b[1;33m+\u001b[0m \u001b[1;34m\"/\"\u001b[0m \u001b[1;33m+\u001b[0m \u001b[0mlanguage\u001b[0m \u001b[1;33m+\u001b[0m \u001b[1;34m\"/\"\u001b[0m \u001b[1;33m+\u001b[0m \u001b[0mauthor\u001b[0m \u001b[1;33m+\u001b[0m \u001b[1;34m\"/\"\u001b[0m \u001b[1;33m+\u001b[0m \u001b[0mtitle\u001b[0m\u001b[1;33m\u001b[0m\u001b[0m\n\u001b[1;32m     21\u001b[0m             \u001b[1;31m# print (inputfile)\u001b[0m\u001b[1;33m\u001b[0m\u001b[1;33m\u001b[0m\u001b[0m\n\u001b[0;32m---> 22\u001b[0;31m             \u001b[0mtext\u001b[0m \u001b[1;33m=\u001b[0m \u001b[0mread_book\u001b[0m\u001b[1;33m(\u001b[0m\u001b[0minputfile\u001b[0m\u001b[1;33m)\u001b[0m\u001b[1;33m\u001b[0m\u001b[0m\n\u001b[0m\u001b[1;32m     23\u001b[0m             \u001b[1;33m(\u001b[0m\u001b[0mnum_unique\u001b[0m\u001b[1;33m,\u001b[0m \u001b[0mcounts\u001b[0m\u001b[1;33m)\u001b[0m \u001b[1;33m=\u001b[0m \u001b[0mword_stats\u001b[0m\u001b[1;33m(\u001b[0m\u001b[0mcount_words_faster\u001b[0m\u001b[1;33m(\u001b[0m\u001b[0mtext\u001b[0m\u001b[1;33m)\u001b[0m\u001b[1;33m)\u001b[0m\u001b[1;33m\u001b[0m\u001b[0m\n\u001b[1;32m     24\u001b[0m             \u001b[0mstats\u001b[0m\u001b[1;33m.\u001b[0m\u001b[0mloc\u001b[0m\u001b[1;33m[\u001b[0m\u001b[0mtitle_num\u001b[0m\u001b[1;33m]\u001b[0m \u001b[1;33m=\u001b[0m \u001b[0mlanguage\u001b[0m\u001b[1;33m,\u001b[0m \u001b[0mauthor\u001b[0m\u001b[1;33m,\u001b[0m \u001b[0mtitle\u001b[0m\u001b[1;33m,\u001b[0m \u001b[0msum\u001b[0m\u001b[1;33m(\u001b[0m\u001b[0mcounts\u001b[0m\u001b[1;33m)\u001b[0m\u001b[1;33m,\u001b[0m \u001b[0mnum_unique\u001b[0m\u001b[1;33m\u001b[0m\u001b[0m\n",
      "\u001b[0;32m<ipython-input-1-d623b94e8945>\u001b[0m in \u001b[0;36mread_book\u001b[0;34m(title_path)\u001b[0m\n\u001b[1;32m      6\u001b[0m     \u001b[0mRead\u001b[0m \u001b[0ma\u001b[0m \u001b[0mbook\u001b[0m \u001b[1;32mand\u001b[0m \u001b[1;32mreturn\u001b[0m \u001b[0mit\u001b[0m \u001b[1;32mas\u001b[0m \u001b[0ma\u001b[0m \u001b[0mstring\u001b[0m\u001b[1;33m\u001b[0m\u001b[0m\n\u001b[1;32m      7\u001b[0m     \"\"\"\n\u001b[0;32m----> 8\u001b[0;31m     \u001b[1;32mwith\u001b[0m \u001b[0mopen\u001b[0m\u001b[1;33m(\u001b[0m\u001b[0mtitle_path\u001b[0m\u001b[1;33m,\u001b[0m \u001b[1;34m\"r\"\u001b[0m\u001b[1;33m,\u001b[0m \u001b[0mencoding\u001b[0m\u001b[1;33m=\u001b[0m\u001b[1;34m\"utf-8\"\u001b[0m\u001b[1;33m)\u001b[0m \u001b[1;32mas\u001b[0m \u001b[0mcurrent_file\u001b[0m\u001b[1;33m:\u001b[0m\u001b[1;33m\u001b[0m\u001b[0m\n\u001b[0m\u001b[1;32m      9\u001b[0m         \u001b[0mtext\u001b[0m \u001b[1;33m=\u001b[0m \u001b[0mcurrent_file\u001b[0m\u001b[1;33m.\u001b[0m\u001b[0mread\u001b[0m\u001b[1;33m(\u001b[0m\u001b[1;33m)\u001b[0m\u001b[1;33m\u001b[0m\u001b[0m\n\u001b[1;32m     10\u001b[0m         \u001b[0mtext\u001b[0m\u001b[1;33m.\u001b[0m\u001b[0mreplace\u001b[0m\u001b[1;33m(\u001b[0m\u001b[1;34m\"\\n\"\u001b[0m\u001b[1;33m,\u001b[0m \u001b[1;34m\"\"\u001b[0m\u001b[1;33m)\u001b[0m\u001b[1;33m.\u001b[0m\u001b[0mreplace\u001b[0m\u001b[1;33m(\u001b[0m\u001b[1;34m\"\\r\"\u001b[0m\u001b[1;33m,\u001b[0m\u001b[1;34m\"\"\u001b[0m\u001b[1;33m)\u001b[0m\u001b[1;33m\u001b[0m\u001b[0m\n",
      "\u001b[0;31mIOError\u001b[0m: [Errno 2] No such file or directory: \"./Books/French/chevalier/L'a\\xa6\\xe8le de sable.txt\""
     ]
    }
   ],
   "source": [
    "def count_words_faster(text):\n",
    "    text = text.lower()\n",
    "    skips = [\".\", \",\", \":\", \";\", \"?\", \"!\", '\"\"', \"''\" ]\n",
    "    for ch in skips:\n",
    "        text = text.replace(ch, \"\")\n",
    "    word_counts = Counter(text.split(\" \"))\n",
    "    return word_counts\n",
    "\n",
    "def word_stats(word_counts):\n",
    "    \"\"\"return number of unique words and frequencies\"\"\"\n",
    "    num_unique = len(word_counts)\n",
    "    counts = word_counts.values()\n",
    "    return (num_unique, counts)\n",
    "\n",
    "stats = pd.DataFrame(columns = (\"language\", \"author\", \"title\", \"length\", \"unique\"))\n",
    "title_num = 1\n",
    "for language in os.listdir(book_dir):\n",
    "    for author in os.listdir(book_dir + \"/\" + language):\n",
    "        for title in os.listdir(book_dir + \"/\" + language + \"/\" + author):\n",
    "            inputfile = book_dir + \"/\" + language + \"/\" + author + \"/\" + title\n",
    "            # print (inputfile)\n",
    "            text = read_book(inputfile)\n",
    "            (num_unique, counts) = word_stats(count_words_faster(text))\n",
    "            stats.loc[title_num] = language, author, title, sum(counts), num_unique\n",
    "            title_num += 1\n",
    "stats    "
   ]
  },
  {
   "cell_type": "code",
   "execution_count": 13,
   "metadata": {
    "collapsed": false
   },
   "outputs": [
    {
     "ename": "NameError",
     "evalue": "name 'count_words' is not defined",
     "output_type": "error",
     "traceback": [
      "\u001b[0;31m\u001b[0m",
      "\u001b[0;31mNameError\u001b[0mTraceback (most recent call last)",
      "\u001b[0;32m<ipython-input-13-22fbae11e475>\u001b[0m in \u001b[0;36m<module>\u001b[0;34m()\u001b[0m\n\u001b[1;32m     21\u001b[0m             \u001b[1;31m# print (inputfile)\u001b[0m\u001b[1;33m\u001b[0m\u001b[1;33m\u001b[0m\u001b[0m\n\u001b[1;32m     22\u001b[0m             \u001b[0mtext\u001b[0m \u001b[1;33m=\u001b[0m \u001b[0mread_book\u001b[0m\u001b[1;33m(\u001b[0m\u001b[0minputfile\u001b[0m\u001b[1;33m)\u001b[0m\u001b[1;33m\u001b[0m\u001b[0m\n\u001b[0;32m---> 23\u001b[0;31m             \u001b[1;33m(\u001b[0m\u001b[0mnum_unique\u001b[0m\u001b[1;33m,\u001b[0m \u001b[0mcounts\u001b[0m\u001b[1;33m)\u001b[0m \u001b[1;33m=\u001b[0m \u001b[0mword_stats\u001b[0m\u001b[1;33m(\u001b[0m\u001b[0mcount_words\u001b[0m\u001b[1;33m(\u001b[0m\u001b[0mtext\u001b[0m\u001b[1;33m)\u001b[0m\u001b[1;33m)\u001b[0m\u001b[1;33m\u001b[0m\u001b[0m\n\u001b[0m\u001b[1;32m     24\u001b[0m             \u001b[1;31m# modifications capitalize first letter in title and remove .txt extension\u001b[0m\u001b[1;33m\u001b[0m\u001b[1;33m\u001b[0m\u001b[0m\n\u001b[1;32m     25\u001b[0m             \u001b[0mstats\u001b[0m\u001b[1;33m.\u001b[0m\u001b[0mloc\u001b[0m\u001b[1;33m[\u001b[0m\u001b[0mtitle_num\u001b[0m\u001b[1;33m]\u001b[0m \u001b[1;33m=\u001b[0m \u001b[0mlanguage\u001b[0m\u001b[1;33m,\u001b[0m \u001b[0mauthor\u001b[0m\u001b[1;33m.\u001b[0m\u001b[0mcapitalize\u001b[0m\u001b[1;33m(\u001b[0m\u001b[1;33m)\u001b[0m\u001b[1;33m,\u001b[0m \u001b[0mtitle\u001b[0m\u001b[1;33m.\u001b[0m\u001b[0mreplace\u001b[0m\u001b[1;33m(\u001b[0m\u001b[1;34m\".txt\"\u001b[0m\u001b[1;33m,\u001b[0m \u001b[1;34m\"\"\u001b[0m\u001b[1;33m)\u001b[0m\u001b[1;33m,\u001b[0m \u001b[0msum\u001b[0m\u001b[1;33m(\u001b[0m\u001b[0mcounts\u001b[0m\u001b[1;33m)\u001b[0m\u001b[1;33m,\u001b[0m \u001b[0mnum_unique\u001b[0m\u001b[1;33m\u001b[0m\u001b[0m\n",
      "\u001b[0;31mNameError\u001b[0m: name 'count_words' is not defined"
     ]
    }
   ],
   "source": [
    "def count_words_faster(text):\n",
    "    text = text.lower()\n",
    "    skips = [\".\", \",\", \":\", \";\", \"?\", \"!\", '\"\"', \"''\" ]\n",
    "    for ch in skips:\n",
    "        text = text.replace(ch, \"\")\n",
    "        word_counts = Counter(text.split(\" \"))\n",
    "    return word_counts\n",
    "\n",
    "def word_stats(word_counts):\n",
    "    \"\"\"return number of unique words and frequencies\"\"\"\n",
    "    num_unique = len(word_counts)\n",
    "    counts = word_counts.values()\n",
    "    return (num_unique, counts)\n",
    "\n",
    "stats = pd.DataFrame(columns = (\"language\", \"author\", \"title\", \"length\", \"unique\"))\n",
    "title_num = 1\n",
    "for language in os.listdir(book_dir):\n",
    "    for author in os.listdir(book_dir + \"/\" + language):\n",
    "        for title in os.listdir(book_dir + \"/\" + language + \"/\" + author):\n",
    "            inputfile = book_dir + \"/\" + language + \"/\" + author + \"/\" + title\n",
    "            # print (inputfile)\n",
    "            text = read_book(inputfile)\n",
    "            (num_unique, counts) = word_stats(count_words(text))\n",
    "            # modifications capitalize first letter in title and remove .txt extension\n",
    "            stats.loc[title_num] = language, author.capitalize(), title.replace(\".txt\", \"\"), sum(counts), num_unique\n",
    "            title_num += 1\n",
    "stats"
   ]
  },
  {
   "cell_type": "markdown",
   "metadata": {},
   "source": [
    "### Plotting Book Statistics"
   ]
  },
  {
   "cell_type": "code",
   "execution_count": 109,
   "metadata": {
    "collapsed": false
   },
   "outputs": [],
   "source": [
    "import matplotlib.pyplot as plt\n",
    "%matplotlib inline"
   ]
  },
  {
   "cell_type": "code",
   "execution_count": 110,
   "metadata": {
    "collapsed": false
   },
   "outputs": [
    {
     "data": {
      "text/plain": [
       "[<matplotlib.lines.Line2D at 0x1ccf898f080>]"
      ]
     },
     "execution_count": 110,
     "metadata": {},
     "output_type": "execute_result"
    },
    {
     "data": {
      "image/png": "[encoded data removed]",
      "text/plain": [
       "<matplotlib.figure.Figure at 0x1ccf8e8cf28>"
      ]
     },
     "metadata": {},
     "output_type": "display_data"
    }
   ],
   "source": [
    "plt.plot(stats.length, stats.unique, \"bo\")"
   ]
  },
  {
   "cell_type": "code",
   "execution_count": 111,
   "metadata": {
    "collapsed": false
   },
   "outputs": [
    {
     "data": {
      "text/plain": [
       "[<matplotlib.lines.Line2D at 0x1ccf8b46518>]"
      ]
     },
     "execution_count": 111,
     "metadata": {},
     "output_type": "execute_result"
    },
    {
     "data": {
      "image/png": "[encoded data removed]",
      "text/plain": [
       "<matplotlib.figure.Figure at 0x1ccf8b8ff60>"
      ]
     },
     "metadata": {},
     "output_type": "display_data"
    }
   ],
   "source": [
    "plt.loglog(stats.length, stats.unique, \"bo\")"
   ]
  },
  {
   "cell_type": "code",
   "execution_count": 112,
   "metadata": {
    "collapsed": false
   },
   "outputs": [
    {
     "data": {
      "text/html": [
       "<div>\n",
       "<table border=\"1\" class=\"dataframe\">\n",
       "  <thead>\n",
       "    <tr style=\"text-align: right;\">\n",
       "      <th></th>\n",
       "      <th>language</th>\n",
       "      <th>author</th>\n",
       "      <th>title</th>\n",
       "      <th>length</th>\n",
       "      <th>unique</th>\n",
       "    </tr>\n",
       "  </thead>\n",
       "  <tbody>\n",
       "    <tr>\n",
       "      <th>1</th>\n",
       "      <td>English</td>\n",
       "      <td>Shakespeare</td>\n",
       "      <td>A Midsummer Night's Dream</td>\n",
       "      <td>16103.0</td>\n",
       "      <td>4833.0</td>\n",
       "    </tr>\n",
       "    <tr>\n",
       "      <th>2</th>\n",
       "      <td>English</td>\n",
       "      <td>Shakespeare</td>\n",
       "      <td>Hamlet</td>\n",
       "      <td>28551.0</td>\n",
       "      <td>7761.0</td>\n",
       "    </tr>\n",
       "    <tr>\n",
       "      <th>3</th>\n",
       "      <td>English</td>\n",
       "      <td>Shakespeare</td>\n",
       "      <td>Macbeth</td>\n",
       "      <td>16874.0</td>\n",
       "      <td>5463.0</td>\n",
       "    </tr>\n",
       "    <tr>\n",
       "      <th>4</th>\n",
       "      <td>English</td>\n",
       "      <td>Shakespeare</td>\n",
       "      <td>Othello</td>\n",
       "      <td>26590.0</td>\n",
       "      <td>6768.0</td>\n",
       "    </tr>\n",
       "    <tr>\n",
       "      <th>5</th>\n",
       "      <td>English</td>\n",
       "      <td>Shakespeare</td>\n",
       "      <td>Richard III</td>\n",
       "      <td>48315.0</td>\n",
       "      <td>8908.0</td>\n",
       "    </tr>\n",
       "    <tr>\n",
       "      <th>6</th>\n",
       "      <td>English</td>\n",
       "      <td>Shakespeare</td>\n",
       "      <td>Romeo and Juliet</td>\n",
       "      <td>40776.0</td>\n",
       "      <td>8258.0</td>\n",
       "    </tr>\n",
       "    <tr>\n",
       "      <th>7</th>\n",
       "      <td>English</td>\n",
       "      <td>Shakespeare</td>\n",
       "      <td>The Merchant of Venice</td>\n",
       "      <td>20949.0</td>\n",
       "      <td>5513.0</td>\n",
       "    </tr>\n",
       "  </tbody>\n",
       "</table>\n",
       "</div>"
      ],
      "text/plain": [
       "  language       author                      title   length  unique\n",
       "1  English  Shakespeare  A Midsummer Night's Dream  16103.0  4833.0\n",
       "2  English  Shakespeare                     Hamlet  28551.0  7761.0\n",
       "3  English  Shakespeare                    Macbeth  16874.0  5463.0\n",
       "4  English  Shakespeare                    Othello  26590.0  6768.0\n",
       "5  English  Shakespeare                Richard III  48315.0  8908.0\n",
       "6  English  Shakespeare           Romeo and Juliet  40776.0  8258.0\n",
       "7  English  Shakespeare     The Merchant of Venice  20949.0  5513.0"
      ]
     },
     "execution_count": 112,
     "metadata": {},
     "output_type": "execute_result"
    }
   ],
   "source": [
    "stats[stats.language == \"English\"]"
   ]
  },
  {
   "cell_type": "code",
   "execution_count": 113,
   "metadata": {
    "collapsed": false
   },
   "outputs": [
    {
     "data": {
      "text/plain": [
       "language    32\n",
       "author      32\n",
       "title       32\n",
       "length      32\n",
       "unique      32\n",
       "dtype: int64"
      ]
     },
     "execution_count": 113,
     "metadata": {},
     "output_type": "execute_result"
    }
   ],
   "source": [
    "stats[stats.language == \"French\"].count()"
   ]
  },
  {
   "cell_type": "code",
   "execution_count": 114,
   "metadata": {
    "collapsed": false
   },
   "outputs": [
    {
     "data": {
      "text/plain": [
       "<matplotlib.figure.Figure at 0x1ccf96735c0>"
      ]
     },
     "execution_count": 114,
     "metadata": {},
     "output_type": "execute_result"
    },
    {
     "data": {
      "text/plain": [
       "[<matplotlib.lines.Line2D at 0x1ccfbda3358>]"
      ]
     },
     "execution_count": 114,
     "metadata": {},
     "output_type": "execute_result"
    },
    {
     "data": {
      "text/plain": [
       "[<matplotlib.lines.Line2D at 0x1ccfb6cc1d0>]"
      ]
     },
     "execution_count": 114,
     "metadata": {},
     "output_type": "execute_result"
    },
    {
     "data": {
      "text/plain": [
       "[<matplotlib.lines.Line2D at 0x1ccfb8f1ef0>]"
      ]
     },
     "execution_count": 114,
     "metadata": {},
     "output_type": "execute_result"
    },
    {
     "data": {
      "text/plain": [
       "[<matplotlib.lines.Line2D at 0x1ccfaf979e8>]"
      ]
     },
     "execution_count": 114,
     "metadata": {},
     "output_type": "execute_result"
    },
    {
     "data": {
      "text/plain": [
       "<matplotlib.legend.Legend at 0x1ccfb702390>"
      ]
     },
     "execution_count": 114,
     "metadata": {},
     "output_type": "execute_result"
    },
    {
     "data": {
      "text/plain": [
       "<matplotlib.text.Text at 0x1ccfb499358>"
      ]
     },
     "execution_count": 114,
     "metadata": {},
     "output_type": "execute_result"
    },
    {
     "data": {
      "text/plain": [
       "<matplotlib.text.Text at 0x1ccfaf97be0>"
      ]
     },
     "execution_count": 114,
     "metadata": {},
     "output_type": "execute_result"
    },
    {
     "data": {
      "image/png": "[encoded data removed]",
      "text/plain": [
       "<matplotlib.figure.Figure at 0x1ccf96735c0>"
      ]
     },
     "metadata": {},
     "output_type": "display_data"
    }
   ],
   "source": [
    "plt.figure(figsize = (10,10))\n",
    "subset = stats[stats.language == \"English\"]\n",
    "plt.loglog(subset.length, subset.unique, \"o\", label = \"English\", color = \"crimson\")\n",
    "subset = stats[stats.language == \"French\"]\n",
    "plt.loglog(subset.length, subset.unique, \"o\", label = \"French\", color = \"forestgreen\")\n",
    "subset = stats[stats.language == \"German\"]\n",
    "plt.loglog(subset.length, subset.unique, \"o\", label = \"German\", color = \"orange\")\n",
    "subset = stats[stats.language == \"Portuguese\"]\n",
    "plt.loglog(subset.length, subset.unique, \"o\", label = \"Portuguese\", color = \"blueviolet\")\n",
    "plt.legend()\n",
    "plt.xlabel(\"Book length\")\n",
    "plt.ylabel(\"Number of unique words\")\n",
    "plt.show()"
   ]
  },
  {
   "cell_type": "markdown",
   "metadata": {
    "collapsed": false
   },
   "source": [
    "### Unique word count distribution"
   ]
  },
  {
   "cell_type": "code",
   "execution_count": 1,
   "metadata": {
    "collapsed": false
   },
   "outputs": [
    {
     "name": "stdout",
     "output_type": "stream",
     "text": [
      "('Number of characters in Romeo and Juliet:', 174128)\n",
      "4491\n",
      "('Number of words in Romeo and Juliet:', 4491)\n",
      "('Number of unique words in Romeo and Juliet:', 40776)\n",
      "counts [512, 1, 2, 3, 4, 5, 6, 7, 8, 9, 10, 11, 12, 13, 14, 15, 16, 17, 18, 19, 20, 21, 22, 23, 24, 25, 26, 27, 28, 29, 30, 31, 32, 33, 34, 35, 36, 37, 38, 39, 40, 41, 42, 44, 45, 47, 48, 49, 50, 51, 52, 53, 54, 55, 56, 57, 58, 60, 61, 62, 64, 65, 66, 68, 69, 70, 72, 268, 74, 76, 79, 80, 580, 82, 84, 88, 527, 101, 96, 99, 100, 613, 358, 103, 360, 111, 112, 113, 114, 117, 374, 120, 127, 130, 277, 137, 138, 139, 140, 265, 12186, 143, 149, 150, 836, 154, 156, 282, 163, 164, 165, 166, 369, 189, 290, 783, 230, 244, 254]\n",
      "frequency [1, 2597, 675, 283, 166, 124, 84, 72, 40, 40, 43, 28, 25, 19, 22, 17, 11, 15, 10, 11, 9, 11, 5, 10, 4, 5, 9, 6, 6, 4, 1, 5, 1, 5, 1, 2, 2, 1, 1, 2, 1, 4, 1, 2, 5, 4, 2, 3, 1, 2, 2, 3, 1, 2, 2, 2, 2, 1, 1, 3, 5, 1, 1, 3, 2, 1, 1, 1, 1, 1, 1, 1, 1, 2, 2, 4, 1, 1, 1, 1, 1, 1, 1, 1, 2, 1, 1, 2, 1, 1, 1, 1, 1, 1, 1, 1, 1, 1, 1, 1, 1, 1, 1, 1, 1, 2, 1, 1, 1, 1, 1, 1, 1, 1, 1, 1, 1, 1, 1]\n",
      "cumulative [   1 2598 3273 3556 3722 3846 3930 4002 4042 4082 4125 4153 4178 4197 4219\n",
      " 4236 4247 4262 4272 4283 4292 4303 4308 4318 4322 4327 4336 4342 4348 4352\n",
      " 4353 4358 4359 4364 4365 4367 4369 4370 4371 4373 4374 4378 4379 4381 4386\n",
      " 4390 4392 4395 4396 4398 4400 4403 4404 4406 4408 4410 4412 4413 4414 4417\n",
      " 4422 4423 4424 4427 4429 4430 4431 4432 4433 4434 4435 4436 4437 4439 4441\n",
      " 4445 4446 4447 4448 4449 4450 4451 4452 4453 4455 4456 4457 4459 4460 4461\n",
      " 4462 4463 4464 4465 4466 4467 4468 4469 4470 4471 4472 4473 4474 4475 4476\n",
      " 4478 4479 4480 4481 4482 4483 4484 4485 4486 4487 4488 4489 4490 4491]\n",
      "more frequent [ 0.         -0.57826765 -0.72856825 -0.79158317 -0.82854598 -0.85615676\n",
      " -0.87486083 -0.8908929  -0.8997996  -0.9087063  -0.91828101 -0.9245157\n",
      " -0.93008239 -0.93431307 -0.93921176 -0.94299711 -0.94544645 -0.94878646\n",
      " -0.95101314 -0.95346248 -0.95546649 -0.95791583 -0.95902917 -0.96125585\n",
      " -0.96214652 -0.96325985 -0.96526386 -0.96659987 -0.96793587 -0.96882654\n",
      " -0.96904921 -0.97016255 -0.97038521 -0.97149855 -0.97172122 -0.97216656\n",
      " -0.97261189 -0.97283456 -0.97305723 -0.97350256 -0.97372523 -0.9746159\n",
      " -0.97483857 -0.9752839  -0.97639724 -0.97728791 -0.97773324 -0.97840125\n",
      " -0.97862391 -0.97906925 -0.97951458 -0.98018259 -0.98040525 -0.98085059\n",
      " -0.98129593 -0.98174126 -0.9821866  -0.98240926 -0.98263193 -0.98329993\n",
      " -0.98441327 -0.98463594 -0.98485861 -0.98552661 -0.98597194 -0.98619461\n",
      " -0.98641728 -0.98663995 -0.98686261 -0.98708528 -0.98730795 -0.98753062\n",
      " -0.98775328 -0.98819862 -0.98864395 -0.98953462 -0.98975729 -0.98997996\n",
      " -0.99020263 -0.9904253  -0.99064796 -0.99087063 -0.9910933  -0.99131597\n",
      " -0.9917613  -0.99198397 -0.99220664 -0.99265197 -0.99287464 -0.99309731\n",
      " -0.99331997 -0.99354264 -0.99376531 -0.99398798 -0.99421064 -0.99443331\n",
      " -0.99465598 -0.99487865 -0.99510131 -0.99532398 -0.99554665 -0.99576932\n",
      " -0.99599198 -0.99621465 -0.99643732 -0.99688265 -0.99710532 -0.99732799\n",
      " -0.99755066 -0.99777332 -0.99799599 -0.99821866 -0.99844133 -0.99866399\n",
      " -0.99888666 -0.99910933 -0.999332   -0.99955466 -0.99977733]\n",
      "{512: 0.0, 1: -0.57826764640391892, 2: -0.72856824760632377, 3: -0.79158316633266534, 4: -0.82854598085059006, 5: -0.85615675796036517, 6: -0.87486083277666449, 7: -0.89089289690492091, 8: -0.8997995991983968, 9: -0.90870630149187259, 10: -0.91828100645735922, 11: -0.92451569806279221, 12: -0.93008238699621471, 13: -0.93431307058561563, 14: -0.9392117568470274, 15: -0.94299710532175463, 16: -0.94544644845246051, 17: -0.94878646181251391, 18: -0.95101313738588289, 19: -0.95346248051658877, 20: -0.95546648853262084, 21: -0.95791583166332661, 22: -0.95902916945001115, 23: -0.96125584502338013, 24: -0.96214651525272765, 25: -0.96325985303941219, 26: -0.96526386105544426, 27: -0.9665998663994656, 28: -0.96793587174348694, 29: -0.96882654197283458, 30: -0.96904920953017148, 31: -0.97016254731685592, 32: -0.97038521487419283, 33: -0.97149855266087726, 34: -0.97172122021821417, 35: -0.97216655533288798, 36: -0.9726118904475618, 37: -0.97283455800489871, 38: -0.97305722556223562, 39: -0.97350256067690932, 40: -0.97372522823424623, 41: -0.97461589846359387, 42: -0.97483856602093077, 44: -0.97528390113560459, 45: -0.97639723892228902, 47: -0.97728790915163666, 48: -0.97773324426631036, 49: -0.97840124693832109, 50: -0.978623914495658, 51: -0.97906924961033182, 52: -0.97951458472500552, 53: -0.98018258739701625, 54: -0.98040525495435316, 55: -0.98085059006902697, 56: -0.98129592518370079, 57: -0.9817412602983745, 58: -0.98218659541304831, 60: -0.98240926297038522, 61: -0.98263193052772213, 62: -0.98329993319973275, 64: -0.98441327098641729, 65: -0.9846359385437542, 66: -0.98485860610109111, 68: -0.98552660877310172, 69: -0.98597194388777554, 70: -0.98619461144511245, 72: -0.98641727900244935, 74: -0.98686261411712317, 76: -0.98708528167446008, 79: -0.98730794923179688, 80: -0.98753061678913379, 82: -0.98819861946114451, 84: -0.98864395457581833, 88: -0.98953462480516585, 527: -0.98975729236250276, 101: -0.98997995991983967, 96: -0.99020262747717658, 99: -0.99042529503451349, 100: -0.9906479625918504, 613: -0.9908706301491873, 103: -0.99131596526386101, 111: -0.99198396793587174, 112: -0.99220663549320864, 113: -0.99265197060788246, 114: -0.99287463816521937, 117: -0.99309730572255628, 120: -0.99354264083722998, 127: -0.99376530839456689, 130: -0.9939879759519038, 137: -0.99443331106657762, 138: -0.99465597862391453, 139: -0.99487864618125144, 140: -0.99510131373858823, 143: -0.99576931641059896, 149: -0.99599198396793587, 150: -0.99621465152527278, 154: -0.9968826541972835, 156: -0.9971053217546203, 163: -0.99755065686929412, 164: -0.99777332442663103, 165: -0.99799599198396793, 166: -0.99821865954130484, 189: -0.99866399465597866, 230: -0.99933199732798927, 244: -0.99955466488532618, 254: -0.99977733244266309, 265: -0.99532398129592514, 268: -0.98663994655978626, 783: -0.99910932977065237, 277: -0.99421064350924071, 282: -0.99732798931195721, 290: -0.99888666221331557, 836: -0.99643731908260968, 358: -0.99109329770652421, 360: -0.99176130037853483, 369: -0.99844132709864175, 374: -0.99331997327989308, 580: -0.98775328434647069, 12186: -0.99554664885326205}\n"
     ]
    }
   ],
   "source": [
    "# The whole thing\n",
    "\n",
    "from io import open\n",
    "def read_book(title_path):\n",
    "    \"\"\"\n",
    "    Read a book and return it as a string\n",
    "    \"\"\"\n",
    "    with open(title_path, \"r\", encoding=\"utf-8\") as current_file:\n",
    "        text = current_file.read()\n",
    "        text.replace(\"\\n\", \"\").replace(\"\\r\",\"\")\n",
    "    return text\n",
    "\n",
    "text_book = read_book(\"./Books/English/shakespeare/Romeo and Juliet.txt\")\n",
    "\n",
    "print (\"Number of characters in Romeo and Juliet:\",len(text_book))\n",
    "\n",
    "from collections import Counter\n",
    "def count_words_faster(text):\n",
    "    text = text.lower()\n",
    "    skips = [\".\", \",\", \":\", \";\", \"?\", \"!\", '\"\"', \"'\", '\\n', \"-\", \"(\", \")\", \"[\", \"]\"]\n",
    "    for ch in skips:\n",
    "        text = text.replace(ch, \"\")\n",
    "        word_counts = Counter(text.split(\" \"))\n",
    "    return word_counts\n",
    "\n",
    "print len(count_words_faster(text_book))\n",
    "\n",
    "def word_stats(word_counts):\n",
    "    \"\"\"return number of unique words and frequencies\"\"\"\n",
    "    num_unique = len(word_counts)\n",
    "    counts = word_counts.values()\n",
    "    return (num_unique, counts)\n",
    "\n",
    "word_counts = count_words_faster(text_book)\n",
    "(num_unique, counts) = word_stats(word_counts)\n",
    "\n",
    "print (\"Number of words in Romeo and Juliet:\",(num_unique))\n",
    "print (\"Number of unique words in Romeo and Juliet:\", sum(counts))\n",
    "\n",
    "\n",
    "def word_count_distribution(text):\n",
    "    dict_words = (count_words_faster(text))\n",
    "    distribution = dict(Counter(dict_words.values()))\n",
    "    return distribution\n",
    "\n",
    "\"\"\"text book\"\"\"\n",
    "distribution = word_count_distribution(text_book)\n",
    "\n",
    "import numpy as np\n",
    "def more_frequent(distribution):\n",
    "    counts = list(distribution.keys())\n",
    "    frequency_of_counts = list(distribution.values())\n",
    "    print \"counts\", (counts)\n",
    "    print \"frequency\",(frequency_of_counts)\n",
    "    cumulative = np.cumsum(frequency_of_counts)\n",
    "    print \"cumulative\",cumulative\n",
    "    more_frequent = (1.0 - cumulative) / cumulative[-1]\n",
    "    print \"more frequent\",more_frequent\n",
    "    return dict(zip(counts, more_frequent))\n",
    "\n",
    "print more_frequent(distribution)"
   ]
  },
  {
   "cell_type": "code",
   "execution_count": 12,
   "metadata": {
    "collapsed": false
   },
   "outputs": [
    {
     "ename": "WindowsError",
     "evalue": "[Error 3] The system cannot find the path specified: './Books/Portuguese/Queir-\\xf3s/*.*'",
     "output_type": "error",
     "traceback": [
      "\u001b[0;31m\u001b[0m",
      "\u001b[0;31mWindowsError\u001b[0mTraceback (most recent call last)",
      "\u001b[0;32m<ipython-input-12-105776489635>\u001b[0m in \u001b[0;36m<module>\u001b[0;34m()\u001b[0m\n\u001b[1;32m      5\u001b[0m \u001b[1;32mfor\u001b[0m \u001b[0mlanguage\u001b[0m \u001b[1;32min\u001b[0m \u001b[0mos\u001b[0m\u001b[1;33m.\u001b[0m\u001b[0mlistdir\u001b[0m\u001b[1;33m(\u001b[0m\u001b[0mbook_dir\u001b[0m\u001b[1;33m)\u001b[0m\u001b[1;33m:\u001b[0m\u001b[1;33m\u001b[0m\u001b[0m\n\u001b[1;32m      6\u001b[0m     \u001b[1;32mfor\u001b[0m \u001b[0mauthor\u001b[0m \u001b[1;32min\u001b[0m \u001b[0mos\u001b[0m\u001b[1;33m.\u001b[0m\u001b[0mlistdir\u001b[0m\u001b[1;33m(\u001b[0m\u001b[0mbook_dir\u001b[0m \u001b[1;33m+\u001b[0m \u001b[1;34m\"/\"\u001b[0m \u001b[1;33m+\u001b[0m \u001b[0mlanguage\u001b[0m\u001b[1;33m)\u001b[0m\u001b[1;33m:\u001b[0m\u001b[1;33m\u001b[0m\u001b[0m\n\u001b[0;32m----> 7\u001b[0;31m         \u001b[1;32mfor\u001b[0m \u001b[0mtitle\u001b[0m \u001b[1;32min\u001b[0m \u001b[0mos\u001b[0m\u001b[1;33m.\u001b[0m\u001b[0mlistdir\u001b[0m\u001b[1;33m(\u001b[0m\u001b[0mbook_dir\u001b[0m \u001b[1;33m+\u001b[0m \u001b[1;34m\"/\"\u001b[0m \u001b[1;33m+\u001b[0m \u001b[0mlanguage\u001b[0m \u001b[1;33m+\u001b[0m \u001b[1;34m\"/\"\u001b[0m \u001b[1;33m+\u001b[0m \u001b[0mauthor\u001b[0m\u001b[1;33m)\u001b[0m\u001b[1;33m:\u001b[0m\u001b[1;33m\u001b[0m\u001b[0m\n\u001b[0m\u001b[1;32m      8\u001b[0m             \u001b[1;32mif\u001b[0m \u001b[0mtitle\u001b[0m \u001b[1;33m==\u001b[0m \u001b[1;34m\"Hamlet\"\u001b[0m\u001b[1;33m:\u001b[0m\u001b[1;33m\u001b[0m\u001b[0m\n\u001b[1;32m      9\u001b[0m                 \u001b[0minputfile\u001b[0m \u001b[1;33m=\u001b[0m \u001b[0mbook_dir\u001b[0m \u001b[1;33m+\u001b[0m \u001b[1;34m\"/\"\u001b[0m \u001b[1;33m+\u001b[0m \u001b[0mlanguage\u001b[0m \u001b[1;33m+\u001b[0m \u001b[1;34m\"/\"\u001b[0m \u001b[1;33m+\u001b[0m \u001b[0mauthor\u001b[0m \u001b[1;33m+\u001b[0m \u001b[1;34m\"/\"\u001b[0m \u001b[1;33m+\u001b[0m \u001b[0mtitle\u001b[0m \u001b[1;33m+\u001b[0m \u001b[1;34m\".txt\"\u001b[0m\u001b[1;33m\u001b[0m\u001b[0m\n",
      "\u001b[0;31mWindowsError\u001b[0m: [Error 3] The system cannot find the path specified: './Books/Portuguese/Queir-\\xf3s/*.*'"
     ]
    }
   ],
   "source": [
    "hamlets = pd.DataFrame(columns = (\"language\", \"distribution\"))\n",
    "book_dir = \"./Books\"\n",
    "os.listdir(book_dir)\n",
    "title_num = 1\n",
    "for language in os.listdir(book_dir):\n",
    "    for author in os.listdir(book_dir + \"/\" + language):\n",
    "        for title in os.listdir(book_dir + \"/\" + language + \"/\" + author):\n",
    "            if title == \"Hamlet\":\n",
    "                inputfile = book_dir + \"/\" + language + \"/\" + author + \"/\" + title + \".txt\"\n",
    "                text = read_book(inputfile)\n",
    "                distribution = word_count_distribution(text)\n",
    "                hamlets.loc[title_num] = language, distribution\n",
    "                title_num += 1"
   ]
  },
  {
   "cell_type": "code",
   "execution_count": null,
   "metadata": {
    "collapsed": true
   },
   "outputs": [],
   "source": [
    "stats = pd.DataFrame(columns = (\"language\", \"author\", \"title\", \"length\", \"unique\"))\n",
    "title_num = 1\n",
    "for language in os.listdir(book_dir):\n",
    "    for author in os.listdir(book_dir + \"/\" + language):\n",
    "        for title in os.listdir(book_dir + \"/\" + language + \"/\" + author):\n",
    "            inputfile = book_dir + \"/\" + language + \"/\" + author + \"/\" + title\n",
    "            # print (inputfile)\n",
    "            text = read_book(inputfile)\n",
    "            (num_unique, counts) = word_stats(count_words_faster(text))\n",
    "            stats.loc[title_num] = language, author, title, sum(counts), num_unique\n",
    "            title_num += 1\n",
    "stats    "
   ]
  },
  {
   "cell_type": "code",
   "execution_count": 9,
   "metadata": {
    "collapsed": false
   },
   "outputs": [
    {
     "ename": "NameError",
     "evalue": "name 'book_titles' is not defined",
     "output_type": "error",
     "traceback": [
      "\u001b[0;31m\u001b[0m",
      "\u001b[0;31mNameError\u001b[0mTraceback (most recent call last)",
      "\u001b[0;32m<ipython-input-9-3a92135ea12c>\u001b[0m in \u001b[0;36m<module>\u001b[0;34m()\u001b[0m\n\u001b[1;32m      2\u001b[0m \u001b[0mbook_dir\u001b[0m \u001b[1;33m=\u001b[0m \u001b[1;34m\"Books\"\u001b[0m\u001b[1;33m\u001b[0m\u001b[0m\n\u001b[1;32m      3\u001b[0m \u001b[0mtitle_num\u001b[0m \u001b[1;33m=\u001b[0m \u001b[1;36m1\u001b[0m\u001b[1;33m\u001b[0m\u001b[0m\n\u001b[0;32m----> 4\u001b[0;31m \u001b[1;32mfor\u001b[0m \u001b[0mlanguage\u001b[0m \u001b[1;32min\u001b[0m \u001b[0mbook_titles\u001b[0m\u001b[1;33m:\u001b[0m\u001b[1;33m\u001b[0m\u001b[0m\n\u001b[0m\u001b[1;32m      5\u001b[0m     \u001b[1;32mfor\u001b[0m \u001b[0mauthor\u001b[0m \u001b[1;32min\u001b[0m \u001b[0mbook_titles\u001b[0m\u001b[1;33m[\u001b[0m\u001b[0mlanguage\u001b[0m\u001b[1;33m]\u001b[0m\u001b[1;33m:\u001b[0m\u001b[1;33m\u001b[0m\u001b[0m\n\u001b[1;32m      6\u001b[0m         \u001b[1;32mfor\u001b[0m \u001b[0mtitle\u001b[0m \u001b[1;32min\u001b[0m \u001b[0mbook_titles\u001b[0m\u001b[1;33m[\u001b[0m\u001b[0mlanguage\u001b[0m\u001b[1;33m]\u001b[0m\u001b[1;33m[\u001b[0m\u001b[0mauthor\u001b[0m\u001b[1;33m]\u001b[0m\u001b[1;33m:\u001b[0m\u001b[1;33m\u001b[0m\u001b[0m\n",
      "\u001b[0;31mNameError\u001b[0m: name 'book_titles' is not defined"
     ]
    }
   ],
   "source": [
    "hamlets = pd.DataFrame(columns = (\"language\", \"distribution\"))\n",
    "book_dir = \"Books\"\n",
    "book_dir = \"./Books\"\n",
    "title_num = 1\n",
    "for language in book_titles:\n",
    "    for author in book_titles[language]:\n",
    "        for title in book_titles[language][author]:\n",
    "            if title == \"Hamlet\":\n",
    "                inputfile = data_filepath+\"Books/\"+language+\"/\"+author+\"/\"+title+\".txt\"\n",
    "                text = read_book(inputfile)\n",
    "                distribution = word_count_distribution(text)\n",
    "                hamlets.loc[title_num] = language, distribution\n",
    "                title_num += 1\n",
    "\n",
    "print (hamlets)"
   ]
  },
  {
   "cell_type": "code",
   "execution_count": null,
   "metadata": {
    "collapsed": true
   },
   "outputs": [],
   "source": []
  }
 ],
 "metadata": {
  "anaconda-cloud": {},
  "kernelspec": {
   "display_name": "Python [conda root]",
   "language": "python",
   "name": "conda-root-py"
  },
  "language_info": {
   "codemirror_mode": {
    "name": "ipython",
    "version": 2
   },
   "file_extension": ".py",
   "mimetype": "text/x-python",
   "name": "python",
   "nbconvert_exporter": "python",
   "pygments_lexer": "ipython2",
   "version": "2.7.12"
  }
 },
 "nbformat": 4,
 "nbformat_minor": 2
}
