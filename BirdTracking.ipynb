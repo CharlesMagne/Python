{
 "cells": [
  {
   "cell_type": "markdown",
   "metadata": {},
   "source": [
    "# Bird Tracking\n",
    "https://lifewatch.inbo.be/blog/posts/bird-tracking-data-published.html <br>\n",
    "LifeWatch INBO project <br>\n",
    "Will use migration data for three gulls - Eric, Nico, and Sanne <br>\n",
    "8 columns - latitude, longitude, altitude, and time stamps \n",
    "### GPS trackers \n",
    "on the birds"
   ]
  },
  {
   "cell_type": "code",
   "execution_count": 1,
   "metadata": {
    "collapsed": true
   },
   "outputs": [],
   "source": [
    "import pandas as pd"
   ]
  },
  {
   "cell_type": "code",
   "execution_count": 3,
   "metadata": {
    "collapsed": false
   },
   "outputs": [
    {
     "data": {
      "text/html": [
       "<div>\n",
       "<table border=\"1\" class=\"dataframe\">\n",
       "  <thead>\n",
       "    <tr style=\"text-align: right;\">\n",
       "      <th></th>\n",
       "      <th>altitude</th>\n",
       "      <th>date_time</th>\n",
       "      <th>device_info_serial</th>\n",
       "      <th>direction</th>\n",
       "      <th>latitude</th>\n",
       "      <th>longitude</th>\n",
       "      <th>speed_2d</th>\n",
       "      <th>bird_name</th>\n",
       "    </tr>\n",
       "  </thead>\n",
       "  <tbody>\n",
       "    <tr>\n",
       "      <th>0</th>\n",
       "      <td>71</td>\n",
       "      <td>2013-08-15 00:18:08+00</td>\n",
       "      <td>851</td>\n",
       "      <td>-150.469753</td>\n",
       "      <td>49.419859</td>\n",
       "      <td>2.120733</td>\n",
       "      <td>0.150000</td>\n",
       "      <td>Eric</td>\n",
       "    </tr>\n",
       "    <tr>\n",
       "      <th>1</th>\n",
       "      <td>68</td>\n",
       "      <td>2013-08-15 00:48:07+00</td>\n",
       "      <td>851</td>\n",
       "      <td>-136.151141</td>\n",
       "      <td>49.419880</td>\n",
       "      <td>2.120746</td>\n",
       "      <td>2.438360</td>\n",
       "      <td>Eric</td>\n",
       "    </tr>\n",
       "    <tr>\n",
       "      <th>2</th>\n",
       "      <td>68</td>\n",
       "      <td>2013-08-15 01:17:58+00</td>\n",
       "      <td>851</td>\n",
       "      <td>160.797477</td>\n",
       "      <td>49.420310</td>\n",
       "      <td>2.120885</td>\n",
       "      <td>0.596657</td>\n",
       "      <td>Eric</td>\n",
       "    </tr>\n",
       "    <tr>\n",
       "      <th>3</th>\n",
       "      <td>73</td>\n",
       "      <td>2013-08-15 01:47:51+00</td>\n",
       "      <td>851</td>\n",
       "      <td>32.769360</td>\n",
       "      <td>49.420359</td>\n",
       "      <td>2.120859</td>\n",
       "      <td>0.310161</td>\n",
       "      <td>Eric</td>\n",
       "    </tr>\n",
       "    <tr>\n",
       "      <th>4</th>\n",
       "      <td>69</td>\n",
       "      <td>2013-08-15 02:17:42+00</td>\n",
       "      <td>851</td>\n",
       "      <td>45.191230</td>\n",
       "      <td>49.420331</td>\n",
       "      <td>2.120887</td>\n",
       "      <td>0.193132</td>\n",
       "      <td>Eric</td>\n",
       "    </tr>\n",
       "  </tbody>\n",
       "</table>\n",
       "</div>"
      ],
      "text/plain": [
       "   altitude               date_time  device_info_serial   direction  \\\n",
       "0        71  2013-08-15 00:18:08+00                 851 -150.469753   \n",
       "1        68  2013-08-15 00:48:07+00                 851 -136.151141   \n",
       "2        68  2013-08-15 01:17:58+00                 851  160.797477   \n",
       "3        73  2013-08-15 01:47:51+00                 851   32.769360   \n",
       "4        69  2013-08-15 02:17:42+00                 851   45.191230   \n",
       "\n",
       "    latitude  longitude  speed_2d bird_name  \n",
       "0  49.419859   2.120733  0.150000      Eric  \n",
       "1  49.419880   2.120746  2.438360      Eric  \n",
       "2  49.420310   2.120885  0.596657      Eric  \n",
       "3  49.420359   2.120859  0.310161      Eric  \n",
       "4  49.420331   2.120887  0.193132      Eric  "
      ]
     },
     "execution_count": 3,
     "metadata": {},
     "output_type": "execute_result"
    }
   ],
   "source": [
    "birddata = pd.read_csv(\"bird_tracking.csv\")\n",
    "birddata.head()"
   ]
  },
  {
   "cell_type": "code",
   "execution_count": 5,
   "metadata": {
    "collapsed": false
   },
   "outputs": [
    {
     "name": "stdout",
     "output_type": "stream",
     "text": [
      "<class 'pandas.core.frame.DataFrame'>\n",
      "RangeIndex: 61920 entries, 0 to 61919\n",
      "Data columns (total 8 columns):\n",
      "altitude              61920 non-null int64\n",
      "date_time             61920 non-null object\n",
      "device_info_serial    61920 non-null int64\n",
      "direction             61477 non-null float64\n",
      "latitude              61920 non-null float64\n",
      "longitude             61920 non-null float64\n",
      "speed_2d              61477 non-null float64\n",
      "bird_name             61920 non-null object\n",
      "dtypes: float64(4), int64(2), object(2)\n",
      "memory usage: 3.8+ MB\n"
     ]
    }
   ],
   "source": [
    "birddata.info()"
   ]
  },
  {
   "cell_type": "markdown",
   "metadata": {},
   "source": [
    "Latitude and Longitude are coordinates along a surface of a sphere- 2-D plots = strong distrotions for the flight trajectories"
   ]
  },
  {
   "cell_type": "markdown",
   "metadata": {},
   "source": [
    "#### Visualization"
   ]
  },
  {
   "cell_type": "code",
   "execution_count": 10,
   "metadata": {
    "collapsed": false
   },
   "outputs": [],
   "source": [
    "import matplotlib.pyplot as plt\n",
    "%matplotlib inline"
   ]
  },
  {
   "cell_type": "code",
   "execution_count": 11,
   "metadata": {
    "collapsed": false
   },
   "outputs": [
    {
     "data": {
      "text/plain": [
       "[<matplotlib.lines.Line2D at 0x1f3f81c45c0>]"
      ]
     },
     "execution_count": 11,
     "metadata": {},
     "output_type": "execute_result"
    },
    {
     "data": {
      "image/png": "[encoded data removed]",
      "text/plain": [
       "<matplotlib.figure.Figure at 0x1f3fdc41588>"
      ]
     },
     "metadata": {},
     "output_type": "display_data"
    }
   ],
   "source": [
    "ix = birddata.bird_name == \"Eric\"\n",
    "x,y = birddata.longitude[ix], birddata.latitude[ix]\n",
    "plt.figure(figsize=(7,7))\n",
    "plt.plot(x,y,\".\")"
   ]
  },
  {
   "cell_type": "code",
   "execution_count": 12,
   "metadata": {
    "collapsed": false
   },
   "outputs": [
    {
     "data": {
      "text/plain": [
       "array(['Eric', 'Nico', 'Sanne'], dtype=object)"
      ]
     },
     "execution_count": 12,
     "metadata": {},
     "output_type": "execute_result"
    }
   ],
   "source": [
    "bird_names = pd.unique(birddata.bird_name)\n",
    "bird_names"
   ]
  },
  {
   "cell_type": "code",
   "execution_count": 19,
   "metadata": {
    "collapsed": false
   },
   "outputs": [
    {
     "data": {
      "text/plain": [
       "<matplotlib.legend.Legend at 0x1f3ffa43898>"
      ]
     },
     "execution_count": 19,
     "metadata": {},
     "output_type": "execute_result"
    },
    {
     "data": {
      "image/png": "[encoded data removed]",
      "text/plain": [
       "<matplotlib.figure.Figure at 0x1f3ffa3e8d0>"
      ]
     },
     "metadata": {},
     "output_type": "display_data"
    }
   ],
   "source": [
    "plt.figure(figsize=(7,7))\n",
    "for bird_name in bird_names:\n",
    "    ix = birddata.bird_name == bird_name\n",
    "    x,y = birddata.longitude[ix], birddata.latitude[ix]\n",
    "    plt.plot(x,y,\".\", label=bird_name)\n",
    "plt.xlabel(\"Longitude\")\n",
    "plt.ylabel(\"Latitude\")\n",
    "plt.legend(loc=\"lower right\")"
   ]
  },
  {
   "cell_type": "markdown",
   "metadata": {},
   "source": [
    "#### Examining Flight Speed"
   ]
  },
  {
   "cell_type": "code",
   "execution_count": null,
   "metadata": {
    "collapsed": true
   },
   "outputs": [],
   "source": []
  }
 ],
 "metadata": {
  "kernelspec": {
   "display_name": "Python 3",
   "language": "python",
   "name": "python3"
  },
  "language_info": {
   "codemirror_mode": {
    "name": "ipython",
    "version": 3
   },
   "file_extension": ".py",
   "mimetype": "text/x-python",
   "name": "python",
   "nbconvert_exporter": "python",
   "pygments_lexer": "ipython3",
   "version": "3.6.0"
  }
 },
 "nbformat": 4,
 "nbformat_minor": 2
}
