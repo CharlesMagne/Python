{
 "cells": [
  {
   "cell_type": "code",
   "execution_count": 20,
   "metadata": {
    "collapsed": false
   },
   "outputs": [],
   "source": [
    "# all the imports used here\n",
    "import numpy as np\n",
    "import random\n",
    "import matplotlib.pyplot as plt\n",
    "%matplotlib inline\n",
    "import scipy.stats as ss\n",
    "from sklearn import datasets\n",
    "iris = datasets.load_iris()\n",
    "from sklearn.neighbors import KNeighborsClassifier "
   ]
  },
  {
   "cell_type": "markdown",
   "metadata": {},
   "source": [
    "# K Nearest Neighbor\n",
    "Stastical learning - collection of mathmatical + compution tool to understand data aka supervised learning. Goal - predict an output based on one or more inputs. \n",
    "- predictors - independent variables - features \n",
    "- output - response - dependent variables\n",
    "\n",
    "- regression problems - observations with numbers - quantitative\n",
    "- Classification problems - categorical data - qualitative \n",
    "\n",
    "KNN - classifier that when presented with a new observation whose category is not known it will attempt to assign that observation to a category, or class based on observations for which it does know. First identifies those k points in the data that are nearest to the point and classifies the new data point as belonging to the most common class among those k neighbors\n",
    "\n",
    "### Finding Distance Between Two Points\n",
    "\n",
    "<b>Euclidean distance</b> http://www.mathwarehouse.com/algebra/distance_formula/index.php <br/>\n",
    "\n",
    "$\\sqrt{(a_1-a_2)^2-(b_1-b_2)^2}$"
   ]
  },
  {
   "cell_type": "code",
   "execution_count": 21,
   "metadata": {
    "collapsed": false
   },
   "outputs": [
    {
     "name": "stdout",
     "output_type": "stream",
     "text": [
      "[3 3]\n",
      "[9 9]\n",
      "4.24264068712\n"
     ]
    }
   ],
   "source": [
    "import numpy as np\n",
    "p1 = np.array([1,1])\n",
    "p2 = np.array([4,4])\n",
    "print (p2 - p1)\n",
    "#square differnce between two points \n",
    "print (np.power(p2 - p1, 2))\n",
    "# sum over two and take the square root\n",
    "print (np.sqrt(np.sum(np.power(p2 - p1, 2))))"
   ]
  },
  {
   "cell_type": "code",
   "execution_count": 22,
   "metadata": {
    "collapsed": false
   },
   "outputs": [
    {
     "data": {
      "text/plain": [
       "4.2426406871192848"
      ]
     },
     "execution_count": 22,
     "metadata": {},
     "output_type": "execute_result"
    }
   ],
   "source": [
    "p1 = np.array([1,1])\n",
    "p2 = np.array([4,4])\n",
    "\n",
    "def distance(p1, p2):\n",
    "    \"\"\"find the distance between points p1 and p2\"\"\"\n",
    "    return np.sqrt(np.sum(np.power(p2 - p1, 2)))\n",
    "\n",
    "distance(p1, p2)"
   ]
  },
  {
   "cell_type": "markdown",
   "metadata": {},
   "source": [
    "### Compute \"majority vote\"\n",
    "Given an array or sequence of votes, need to determine now many times each occurs and then find the most common element. Return observation corresponding ot highest count"
   ]
  },
  {
   "cell_type": "code",
   "execution_count": 23,
   "metadata": {
    "collapsed": true
   },
   "outputs": [],
   "source": [
    "def majority_vote(votes):\n",
    "    vote_counts = {}\n",
    "    for vote in votes:\n",
    "        if vote in vote_counts:\n",
    "            vote_counts[vote] += 1\n",
    "        else:\n",
    "            vote_counts[vote] = 1\n",
    "    return vote_counts"
   ]
  },
  {
   "cell_type": "code",
   "execution_count": 24,
   "metadata": {
    "collapsed": false
   },
   "outputs": [
    {
     "data": {
      "text/plain": [
       "{1: 4, 2: 4, 3: 6}"
      ]
     },
     "execution_count": 24,
     "metadata": {},
     "output_type": "execute_result"
    }
   ],
   "source": [
    "votes = [1,2,3,1,2,3,1,1,2,2,3,3,3,3]\n",
    "vote_counts = majority_vote(votes)\n",
    "vote_counts"
   ]
  },
  {
   "cell_type": "markdown",
   "metadata": {},
   "source": [
    "return the kew with the maximum count"
   ]
  },
  {
   "cell_type": "code",
   "execution_count": 25,
   "metadata": {
    "collapsed": false
   },
   "outputs": [
    {
     "data": {
      "text/plain": [
       "3"
      ]
     },
     "execution_count": 25,
     "metadata": {},
     "output_type": "execute_result"
    }
   ],
   "source": [
    "max(vote_counts)"
   ]
  },
  {
   "cell_type": "code",
   "execution_count": 26,
   "metadata": {
    "collapsed": false
   },
   "outputs": [
    {
     "name": "stdout",
     "output_type": "stream",
     "text": [
      "3\n",
      "6\n"
     ]
    }
   ],
   "source": [
    "print (max(vote_counts.keys()))\n",
    "print (max(vote_counts.values()))"
   ]
  },
  {
   "cell_type": "code",
   "execution_count": 27,
   "metadata": {
    "collapsed": false
   },
   "outputs": [
    {
     "name": "stdout",
     "output_type": "stream",
     "text": [
      "1 4\n",
      "2 4\n",
      "3 6\n"
     ]
    }
   ],
   "source": [
    "for vote, count in vote_counts.items():\n",
    "    print (vote,count)\n",
    "# object with elements consisting of tuples of key, value pairs"
   ]
  },
  {
   "cell_type": "code",
   "execution_count": 28,
   "metadata": {
    "collapsed": false
   },
   "outputs": [
    {
     "data": {
      "text/plain": [
       "[3]"
      ]
     },
     "execution_count": 28,
     "metadata": {},
     "output_type": "execute_result"
    }
   ],
   "source": [
    "winners = []\n",
    "max_count = max(vote_counts.values())\n",
    "for vote, count in vote_counts.items():\n",
    "    if count == max_count:\n",
    "        winners.append(vote)\n",
    "winners"
   ]
  },
  {
   "cell_type": "markdown",
   "metadata": {},
   "source": [
    "if a tie pick one at random"
   ]
  },
  {
   "cell_type": "code",
   "execution_count": 29,
   "metadata": {
    "collapsed": false
   },
   "outputs": [
    {
     "data": {
      "text/plain": [
       "3"
      ]
     },
     "execution_count": 29,
     "metadata": {},
     "output_type": "execute_result"
    }
   ],
   "source": [
    "import random\n",
    "\n",
    "def majority_vote(votes):\n",
    "    \"\"\"return the most common element in votes\"\"\"\n",
    "    vote_counts = {}\n",
    "    for vote in votes:\n",
    "        if vote in vote_counts:\n",
    "            vote_counts[vote] += 1\n",
    "        else:\n",
    "            vote_counts[vote] = 1\n",
    "    \n",
    "    winners = []\n",
    "    max_count = max(vote_counts.values())\n",
    "    for vote, count in vote_counts.items():\n",
    "        if count == max_count:\n",
    "            winners.append(vote)\n",
    "            \n",
    "    return random.choice(winners)\n",
    "\n",
    "votes2 = [1,2,3,1,2,3,1,1,2,2,3,3,3,3,4,4,4,4,4,4]\n",
    "majority_vote(votes2)"
   ]
  },
  {
   "cell_type": "markdown",
   "metadata": {},
   "source": [
    "<b> mode </b> most common element in an array or sequence <br/>\n",
    "https://docs.scipy.org/doc/scipy-0.19.0/reference/generated/scipy.stats.mode.html"
   ]
  },
  {
   "cell_type": "code",
   "execution_count": 30,
   "metadata": {
    "collapsed": false
   },
   "outputs": [
    {
     "data": {
      "text/plain": [
       "array([ 3.])"
      ]
     },
     "execution_count": 30,
     "metadata": {},
     "output_type": "execute_result"
    }
   ],
   "source": [
    "import scipy.stats as ss\n",
    "\n",
    "def majority_vote_short(votes):\n",
    "    \"\"\"return the most common element in votes\"\"\"\n",
    "    mode, count = ss.mstats.mode(votes)\n",
    "    return mode\n",
    "            \n",
    "    return random.choice(winners)\n",
    "\n",
    "majority_vote_short(votes2)"
   ]
  },
  {
   "cell_type": "markdown",
   "metadata": {},
   "source": [
    "for kNN will use `majority_vote` function instead of the scipy mode module because need to pick one at random incase of a tie. "
   ]
  },
  {
   "cell_type": "markdown",
   "metadata": {},
   "source": [
    "### Finding Nearest Neighbors\n",
    "Need to find which point are the nearest nighbor of any given point to classify"
   ]
  },
  {
   "cell_type": "code",
   "execution_count": 31,
   "metadata": {
    "collapsed": false
   },
   "outputs": [
    {
     "name": "stdout",
     "output_type": "stream",
     "text": [
      "[[1 1]\n",
      " [1 2]\n",
      " [1 3]\n",
      " [2 1]\n",
      " [2 2]\n",
      " [2 3]\n",
      " [3 1]\n",
      " [3 2]\n",
      " [3 3]]\n",
      "[ 2.5  2. ]\n"
     ]
    }
   ],
   "source": [
    "points_samp = np.array([[1,1],[1,2],[1,3],[2,1],[2,2],[2,3],[3,1],[3,2],[3,3]])\n",
    "print (points_samp)\n",
    "p = np.array([2.5,2])\n",
    "print (p)"
   ]
  },
  {
   "cell_type": "code",
   "execution_count": 32,
   "metadata": {
    "collapsed": false
   },
   "outputs": [
    {
     "data": {
      "text/plain": [
       "[0.5, 3.5, 0.5, 3.5]"
      ]
     },
     "execution_count": 32,
     "metadata": {},
     "output_type": "execute_result"
    },
    {
     "data": {
      "image/png": "[encoded data removed]",
      "text/plain": [
       "<matplotlib.figure.Figure at 0x29223547a90>"
      ]
     },
     "metadata": {},
     "output_type": "display_data"
    }
   ],
   "source": [
    "import matplotlib.pyplot as plt\n",
    "%matplotlib inline\n",
    "\n",
    "plt.plot(points_samp[:,0], points_samp[:,1], \"ro\")\n",
    "plt.plot(p[0], p[1], \"bo\")\n",
    "plt.axis([0.5, 3.5, 0.5, 3.5])"
   ]
  },
  {
   "cell_type": "code",
   "execution_count": 33,
   "metadata": {
    "collapsed": false
   },
   "outputs": [
    {
     "name": "stdout",
     "output_type": "stream",
     "text": [
      "[ 1.80277564  1.5         1.80277564  1.11803399  0.5         1.11803399\n",
      "  1.11803399  0.5         1.11803399]\n",
      "distance [2 2] from point p: [ 2.5  2. ] is: 0.5\n"
     ]
    }
   ],
   "source": [
    "distances = np.zeros(points_samp.shape[0])\n",
    "#loop over all points\n",
    "for i in range(len(distances)):\n",
    "    distances[i] = distance(p, points_samp[i])\n",
    "    #compute the distance between point p and every other point\n",
    "print (distances)\n",
    "print (\"distance\", (points_samp[4]), \"from point p:\", (p), \"is:\", (distances[4]))\n",
    "\n",
    "# sort distances and return those k points that are nearest to poitn p"
   ]
  },
  {
   "cell_type": "markdown",
   "metadata": {},
   "source": [
    "numpy <b>argsort</b> - sort the given array"
   ]
  },
  {
   "cell_type": "code",
   "execution_count": 34,
   "metadata": {
    "collapsed": false
   },
   "outputs": [
    {
     "name": "stdout",
     "output_type": "stream",
     "text": [
      "distances [ 1.80277564  1.5         1.80277564  1.11803399  0.5         1.11803399\n",
      "  1.11803399  0.5         1.11803399]\n",
      "ind [4 7 3 5 6 8 1 0 2]\n",
      "sorted distances [ 0.5         0.5         1.11803399  1.11803399  1.11803399  1.11803399\n",
      "  1.5         1.80277564  1.80277564]\n",
      "first two [ 0.5  0.5]\n"
     ]
    }
   ],
   "source": [
    "print (\"distances\",(distances))\n",
    "ind = np.argsort(distances)\n",
    "print (\"ind\",(ind))\n",
    "print (\"sorted distances\",(distances[ind]))\n",
    "print (\"first two\", (distances[ind[0:2]]))"
   ]
  },
  {
   "cell_type": "code",
   "execution_count": 35,
   "metadata": {
    "collapsed": false
   },
   "outputs": [
    {
     "name": "stdout",
     "output_type": "stream",
     "text": [
      "[[2 2]\n",
      " [3 2]\n",
      " [2 1]]\n",
      "[[2 2]\n",
      " [3 2]\n",
      " [2 1]\n",
      " [2 3]]\n"
     ]
    }
   ],
   "source": [
    "def find_nearest_neighbor(p, points, k=5):\n",
    "    \"\"\"find the k nearest neighbors of point p and return their indicies.\"\"\"\n",
    "    distances = np.zeros(points.shape[0])\n",
    "    for i in range(len(distances)):\n",
    "        distances[i] = distance(p, points[i])\n",
    "    ind = np.argsort(distances)\n",
    "    return ind[:k]\n",
    "\n",
    "indk3 = find_nearest_neighbor(p, points_samp, 3); print(points_samp[indk3])\n",
    "indk4 = find_nearest_neighbor(p, points_samp, 4); print(points_samp[indk4])"
   ]
  },
  {
   "cell_type": "code",
   "execution_count": 36,
   "metadata": {
    "collapsed": true
   },
   "outputs": [],
   "source": [
    "def knn_predict(p, points, outcomes, k=5):\n",
    "    #find k nearest neighbors\n",
    "    ind = find_nearest_neighbor(p, points, k)\n",
    "    return majority_vote(outcomes[ind])\n",
    "    # predict the class of p based on majority vote"
   ]
  },
  {
   "cell_type": "code",
   "execution_count": 37,
   "metadata": {
    "collapsed": false
   },
   "outputs": [
    {
     "name": "stdout",
     "output_type": "stream",
     "text": [
      "9\n",
      "1\n",
      "0\n"
     ]
    }
   ],
   "source": [
    "outcomes_samp = np.array([0,0,0,0,1,1,1,1,1])\n",
    "print (len(outcomes_samp))\n",
    "print (knn_predict(np.array([2.5,2.7]), points_samp, outcomes_samp, k=2))\n",
    "print (knn_predict(np.array([1.0,2.7]), points_samp, outcomes_samp, k=2))"
   ]
  },
  {
   "cell_type": "markdown",
   "metadata": {},
   "source": [
    "### Generating Synthetic Data\n",
    " - create two end points where \n",
    "     - first end points are from class <b>0</b>\n",
    "     - second end points are from class <b>1</b>\n",
    "Generate predictors from two bivariate normal distributions where the first distribution gives rise to observations belonging to `class 0` and the second gives rise to observations belonging to `class 1`.<br><b>bivariate</b> - two variables eg. `(x,y)`\n",
    "\n",
    "<b>ipstats module<b> "
   ]
  },
  {
   "cell_type": "code",
   "execution_count": 38,
   "metadata": {
    "collapsed": true
   },
   "outputs": [],
   "source": [
    "from scipy import stats as ss"
   ]
  },
  {
   "cell_type": "code",
   "execution_count": 39,
   "metadata": {
    "collapsed": false
   },
   "outputs": [
    {
     "data": {
      "text/plain": [
       "array([[ 0.30231994,  1.1675533 ],\n",
       "       [-0.1671263 , -0.21876044],\n",
       "       [-0.84121231, -0.071069  ],\n",
       "       [-0.66044021, -1.98582885],\n",
       "       [-0.46100743,  0.95596707]])"
      ]
     },
     "execution_count": 39,
     "metadata": {},
     "output_type": "execute_result"
    }
   ],
   "source": [
    "ss.norm(0,1).rvs((5,2))\n",
    "# specify the mean and standard deviation \n",
    "#for observations coming from class 1\n",
    "# 5 rows and 2 columns of observations"
   ]
  },
  {
   "cell_type": "code",
   "execution_count": 40,
   "metadata": {
    "collapsed": false
   },
   "outputs": [
    {
     "data": {
      "text/plain": [
       "array([[ 0.36465256,  2.10442776],\n",
       "       [ 0.55319503,  1.223868  ],\n",
       "       [ 0.65298475, -0.7193085 ],\n",
       "       [-0.38658297,  1.82999474],\n",
       "       [ 2.59537048,  0.90583229]])"
      ]
     },
     "execution_count": 40,
     "metadata": {},
     "output_type": "execute_result"
    }
   ],
   "source": [
    "ss.norm(1,1).rvs((5,2))"
   ]
  },
  {
   "cell_type": "code",
   "execution_count": 41,
   "metadata": {
    "collapsed": false
   },
   "outputs": [
    {
     "data": {
      "text/plain": [
       "array([[ 1.34857224, -0.01968661],\n",
       "       [ 0.28671033,  1.06728088],\n",
       "       [ 0.33671853, -0.60513279],\n",
       "       [-0.12867543, -1.01721381],\n",
       "       [ 1.26339995, -0.25831705],\n",
       "       [ 0.83596252,  0.64641021],\n",
       "       [ 3.7339918 ,  1.66517196],\n",
       "       [ 0.4770303 ,  2.78884191],\n",
       "       [-0.07632544,  1.42411755],\n",
       "       [ 1.53152994,  1.22492703]])"
      ]
     },
     "execution_count": 41,
     "metadata": {},
     "output_type": "execute_result"
    }
   ],
   "source": [
    "# concatenate two arrays\n",
    "np.concatenate((ss.norm(0,1).rvs((5,2)),\n",
    "               ss.norm(1,1).rvs((5,2))), axis=0)\n",
    "# axis = 0 along the rows"
   ]
  },
  {
   "cell_type": "code",
   "execution_count": 42,
   "metadata": {
    "collapsed": false
   },
   "outputs": [
    {
     "data": {
      "text/plain": [
       "(array([[-0.0932545 , -1.41895096],\n",
       "        [ 1.57994809, -0.76714813],\n",
       "        [ 0.29696494, -0.82310613],\n",
       "        [-0.59633144,  0.80767632],\n",
       "        [-2.02369111, -1.00285989],\n",
       "        [-1.34737199, -1.7478072 ],\n",
       "        [-1.68898615, -0.16333134],\n",
       "        [ 0.58470536,  1.14205532],\n",
       "        [-0.67433775, -2.23114235],\n",
       "        [ 0.42895377,  0.86014222],\n",
       "        [-1.38301215, -0.12086301],\n",
       "        [ 1.57416557, -0.95867677],\n",
       "        [ 1.98012491,  0.02984355],\n",
       "        [-1.38542931, -0.50878848],\n",
       "        [-0.77159019,  0.28861028],\n",
       "        [ 0.27642011, -0.77245512],\n",
       "        [-0.94127168,  1.28867396],\n",
       "        [-1.38961846,  1.01145641],\n",
       "        [-1.78243647, -0.03174515],\n",
       "        [-2.08509422, -1.22077152],\n",
       "        [ 2.18464824,  1.86708029],\n",
       "        [ 0.79616529,  0.8745351 ],\n",
       "        [ 0.06928832,  1.54556689],\n",
       "        [ 0.34460955,  0.0619617 ],\n",
       "        [ 2.42013409,  1.96914255],\n",
       "        [ 1.07484976,  1.83587868],\n",
       "        [ 1.43505201,  1.56926143],\n",
       "        [ 0.68832906,  1.25170774],\n",
       "        [ 1.55121274,  0.01453037],\n",
       "        [ 0.91808681,  1.11480176],\n",
       "        [ 0.05361079,  2.99559633],\n",
       "        [ 0.99041265,  0.22570925],\n",
       "        [ 1.15273264,  1.44259217],\n",
       "        [ 1.31275164,  2.57196407],\n",
       "        [ 0.24343573,  2.22142594],\n",
       "        [ 1.43117523,  3.45975427],\n",
       "        [ 0.49002331,  1.90223468],\n",
       "        [ 0.60490658,  1.26868184],\n",
       "        [ 1.13511455, -1.07054057],\n",
       "        [ 1.07000036,  0.23435229]]),\n",
       " array([0, 0, 0, 0, 0, 0, 0, 0, 0, 0, 0, 0, 0, 0, 0, 0, 0, 0, 0, 0, 1, 1, 1,\n",
       "        1, 1, 1, 1, 1, 1, 1, 1, 1, 1, 1, 1, 1, 1, 1, 1, 1]))"
      ]
     },
     "execution_count": 42,
     "metadata": {},
     "output_type": "execute_result"
    }
   ],
   "source": [
    "# in a function\n",
    "def generate_synth_data(n = 50):\n",
    "    \"\"\"create two sets of points from bivariate normal distribution\"\"\"\n",
    "    points = np.concatenate((ss.norm(0,1).rvs((n,2)),\n",
    "               ss.norm(1,1).rvs((n,2))), axis=0)\n",
    "    outcomes = np.concatenate((np.repeat(0, n), np.repeat(1, n)))\n",
    "# repeat 0 n times   # repeat 1 n times\n",
    "    return (points, outcomes)\n",
    "generate_synth_data()\n",
    "(points, outcomes)=generate_synth_data(n=20)\n",
    "(points, outcomes)"
   ]
  },
  {
   "cell_type": "code",
   "execution_count": 43,
   "metadata": {
    "collapsed": false
   },
   "outputs": [
    {
     "data": {
      "text/plain": [
       "[<matplotlib.lines.Line2D at 0x29223b33198>]"
      ]
     },
     "execution_count": 43,
     "metadata": {},
     "output_type": "execute_result"
    },
    {
     "data": {
      "image/png": "[encoded data removed]",
      "text/plain": [
       "<matplotlib.figure.Figure at 0x29223ac8fd0>"
      ]
     },
     "metadata": {},
     "output_type": "display_data"
    }
   ],
   "source": [
    "n=20\n",
    "plt.figure()\n",
    "# :n = first n rows\n",
    "# 0 column 0 - x coordinates\n",
    "# 1 column 1 - y coordinates\n",
    "plt.plot(points[:n,0], points[:n,1], \"ro\")\n",
    "# n: remaining rows \n",
    "plt.plot(points[n:,0], points[n:,1], \"bo\")"
   ]
  },
  {
   "cell_type": "markdown",
   "metadata": {},
   "source": [
    "### Making a Prediction Grid\n",
    "examine some part of the predictor space and compute the class prediction for each point in the grid using the knn classifier - find out how each point is classified in a rectangular region of the predictor space. "
   ]
  },
  {
   "cell_type": "code",
   "execution_count": 44,
   "metadata": {
    "collapsed": true
   },
   "outputs": [],
   "source": [
    "def make_prediction_grid(predictors, outcomes, limits, h, k):\n",
    "    \"\"\"classify each point on the prediciton grid.\"\"\"\n",
    "    # unpack tuple limits\n",
    "    (x_min, x_max, y_min, y_max) = limits\n",
    "    xs = np.arange(x_min, x_max, h)\n",
    "    # np.arrange(start, stop, step)\n",
    "    # even spaces values within a given interval\n",
    "    ys = np.arange(y_min, y_max, h)\n",
    "    xx, yy = np.meshgrid(xs, ys)\n",
    "    \n",
    "    prediction_grid = np.zeros(xx.shape, dtype = int)\n",
    "    # loop over all x values\n",
    "    # loop over all y values\n",
    "    # ask knn predict algorithm or function to predict the class label\n",
    "    # capture points in prediction grid array\n",
    "    for i,x in enumerate(xs):\n",
    "        for j,y in enumerate(ys):\n",
    "            # specify and index using square brackets the first argument is role of the array\n",
    "            #corresponding index locations in the xs and ys vectors\n",
    "            p = np.array([x,y])\n",
    "            prediction_grid[j,i]=knn_predict(p, predictors, outcomes, k)\n",
    "            # k = number of points to be considerend \n",
    "            # when making class labeled predictions for point p\n",
    "    return (xx, yy, prediction_grid)\n"
   ]
  },
  {
   "cell_type": "markdown",
   "metadata": {},
   "source": [
    "<b>meshgrid</b> takes in two or more vectors and returns matricies for the first containing the x values for each grid point and the second containing the y values for each grid point <br/>\n",
    "<b>enumerate</b> dealing with sequences need access to two things - like an index - sequence of tuples - (index , item)"
   ]
  },
  {
   "cell_type": "code",
   "execution_count": 45,
   "metadata": {
    "collapsed": false
   },
   "outputs": [
    {
     "name": "stdout",
     "output_type": "stream",
     "text": [
      "0 spring\n",
      "1 summer\n",
      "2 fall\n",
      "3 winter\n"
     ]
    }
   ],
   "source": [
    "# example enumerate\n",
    "seasons = [\"spring\", \"summer\", \"fall\", \"winter\"]\n",
    "for ind, season in enumerate(seasons):\n",
    "    print (ind, season)"
   ]
  },
  {
   "cell_type": "markdown",
   "metadata": {},
   "source": [
    "### Plotting the Prediction Grid\n",
    "small value - decision boundary is more smooth the larger the value of k. k controls the smoothness of the fit"
   ]
  },
  {
   "cell_type": "code",
   "execution_count": 55,
   "metadata": {
    "collapsed": true
   },
   "outputs": [],
   "source": [
    "def plot_prediction_grid (xx, yy, prediction_grid, filename):\n",
    "    \"\"\" Plot KNN predictions for every point on the grid.\"\"\"\n",
    "    from matplotlib.colors import ListedColormap\n",
    "    background_colormap = ListedColormap ([\"hotpink\",\"lightskyblue\", \"yellowgreen\"])\n",
    "    observation_colormap = ListedColormap ([\"red\",\"blue\",\"green\"])\n",
    "    plt.figure(figsize =(10,10))\n",
    "    plt.pcolormesh(xx, yy, prediction_grid, cmap = background_colormap, alpha = 0.5)\n",
    "    plt.scatter(predictors[:,0], predictors [:,1], c = outcomes, cmap = observation_colormap, s = 50)\n",
    "    plt.xlabel('Variable 1'); plt.ylabel('Variable 2')\n",
    "    plt.xticks(()); plt.yticks(())\n",
    "    plt.xlim (np.min(xx), np.max(xx))\n",
    "    plt.ylim (np.min(yy), np.max(yy))\n",
    "    plt.savefig(filename)"
   ]
  },
  {
   "cell_type": "code",
   "execution_count": 47,
   "metadata": {
    "collapsed": false
   },
   "outputs": [
    {
     "name": "stdout",
     "output_type": "stream",
     "text": [
      "(100, 2)\n",
      "(100,)\n"
     ]
    },
    {
     "data": {
      "image/png": "[encoded data removed]",
      "text/plain": [
       "<matplotlib.figure.Figure at 0x29223c13c50>"
      ]
     },
     "metadata": {},
     "output_type": "display_data"
    }
   ],
   "source": [
    "(predictors, outcomes) = generate_synth_data()\n",
    "print (predictors.shape)\n",
    "print (outcomes.shape)\n",
    "k=5; filename=\"knn_synth_5.pdf\"; limits=(-3,4,-3,4); h=0.1 # h = step size\n",
    "(xx, yy, prediction_grid) = make_prediction_grid(predictors, outcomes, limits, h, k)\n",
    "plot_prediction_grid(xx, yy, prediction_grid, filename)"
   ]
  },
  {
   "cell_type": "code",
   "execution_count": 48,
   "metadata": {
    "collapsed": false
   },
   "outputs": [
    {
     "name": "stdout",
     "output_type": "stream",
     "text": [
      "(100, 2)\n",
      "(100,)\n"
     ]
    },
    {
     "data": {
      "image/png": "[encoded data removed]",
      "text/plain": [
       "<matplotlib.figure.Figure at 0x29223be3b38>"
      ]
     },
     "metadata": {},
     "output_type": "display_data"
    }
   ],
   "source": [
    "(predictors, outcomes) = generate_synth_data()\n",
    "print (predictors.shape)\n",
    "print (outcomes.shape)\n",
    "k=50; filename=\"knn_synth_50.pdf\"; limits=(-3,4,-3,4); h=0.1 # h = step size\n",
    "(xx, yy, prediction_grid) = make_prediction_grid(predictors, outcomes, limits, h, k)\n",
    "plot_prediction_grid(xx, yy, prediction_grid, filename)"
   ]
  },
  {
   "cell_type": "markdown",
   "metadata": {},
   "source": [
    "k = 50 smooth decision boundary\n",
    "Need to find out how well method preforms on data that we haven't seen.\n",
    "k too small or too large = <b>bias-variance tradeoff </b>. Some intermediate value might be best. <br>\n",
    "Here k=5 is better."
   ]
  },
  {
   "cell_type": "markdown",
   "metadata": {},
   "source": [
    "### Applying kNN\n",
    "<b>SciKitLearn</b> Open Source Machine Learning Library for Python. Will use knn classifier.<br>\n",
    "Compare homemade classifier to knn classifier from SciKitLearn on the Iris Dataset. <br>\n",
    "<b>Iris Dataset</b> - OG dataset created by Ron Fisher in 1933.\n",
    "150 different iris flowers. 50 of each three different species. <br>\n",
    "Covariates: sepal length, sepal width, petal length, and petal width"
   ]
  },
  {
   "cell_type": "code",
   "execution_count": 49,
   "metadata": {
    "collapsed": true
   },
   "outputs": [],
   "source": [
    "from sklearn import datasets\n",
    "iris = datasets.load_iris()"
   ]
  },
  {
   "cell_type": "code",
   "execution_count": 50,
   "metadata": {
    "collapsed": false
   },
   "outputs": [
    {
     "data": {
      "text/plain": [
       "(150, 4)"
      ]
     },
     "execution_count": 50,
     "metadata": {},
     "output_type": "execute_result"
    }
   ],
   "source": [
    "iris.data.shape"
   ]
  },
  {
   "cell_type": "code",
   "execution_count": 51,
   "metadata": {
    "collapsed": false
   },
   "outputs": [
    {
     "data": {
      "text/plain": [
       "[<matplotlib.lines.Line2D at 0x29224161390>]"
      ]
     },
     "execution_count": 51,
     "metadata": {},
     "output_type": "execute_result"
    },
    {
     "data": {
      "image/png": "[encoded data removed]",
      "text/plain": [
       "<matplotlib.figure.Figure at 0x29223b5eba8>"
      ]
     },
     "metadata": {},
     "output_type": "display_data"
    }
   ],
   "source": [
    "predictors_iris = iris.data[:, 0:2]\n",
    "#[all the rows, columns 0 and 1]\n",
    "outcomes = iris.target\n",
    "plt.plot(predictors_iris[outcomes==0][:,0], predictors_iris[outcomes==0][:,1], \"ro\")\n",
    "plt.plot(predictors_iris[outcomes==1][:,0], predictors_iris[outcomes==1][:,1], \"go\")\n",
    "plt.plot(predictors_iris[outcomes==2][:,0], predictors_iris[outcomes==2][:,1], \"bo\")"
   ]
  },
  {
   "cell_type": "markdown",
   "metadata": {},
   "source": [
    "x-axis and y-axis correspond to the values of our predictors <br>\n",
    "make a prediction grid plot"
   ]
  },
  {
   "cell_type": "code",
   "execution_count": 57,
   "metadata": {
    "collapsed": true
   },
   "outputs": [],
   "source": [
    "def plot_prediction_grid2 (xx, yy, prediction_grid, filename):\n",
    "    \"\"\" Plot KNN predictions for every point on the grid.\"\"\"\n",
    "    from matplotlib.colors import ListedColormap\n",
    "    background_colormap = ListedColormap ([\"hotpink\",\"lightskyblue\", \"yellowgreen\"])\n",
    "    observation_colormap = ListedColormap ([\"red\",\"blue\",\"green\"])\n",
    "    plt.figure(figsize =(10,10))\n",
    "    plt.pcolormesh(xx, yy, prediction_grid, cmap = background_colormap, alpha = 0.5)\n",
    "    plt.scatter(predictors_iris[:,0], predictors_iris[:,1], c = outcomes, cmap = observation_colormap, s = 50)\n",
    "    plt.xlabel('Variable 1'); plt.ylabel('Variable 2')\n",
    "    plt.xticks(()); plt.yticks(())\n",
    "    plt.xlim (np.min(xx), np.max(xx))\n",
    "    plt.ylim (np.min(yy), np.max(yy))\n",
    "    plt.savefig(filename)"
   ]
  },
  {
   "cell_type": "code",
   "execution_count": 58,
   "metadata": {
    "collapsed": false
   },
   "outputs": [
    {
     "data": {
      "image/png": "[encoded data removed]",
      "text/plain": [
       "<matplotlib.figure.Figure at 0x29223e392b0>"
      ]
     },
     "metadata": {},
     "output_type": "display_data"
    }
   ],
   "source": [
    "k=5; filename=\"iris_grid.pdf\"; limits=(4,8,1.5,4.5); h=0.1 # h = step size\n",
    "(xx, yy, prediction_grid) = make_prediction_grid(predictors_iris, outcomes, limits, h, k)\n",
    "plot_prediction_grid2(xx, yy, prediction_grid, filename)"
   ]
  },
  {
   "cell_type": "code",
   "execution_count": 59,
   "metadata": {
    "collapsed": false
   },
   "outputs": [
    {
     "name": "stdout",
     "output_type": "stream",
     "text": [
      "(150,)\n",
      "[0 0 0 0 0 0 0 0 0 0]\n"
     ]
    }
   ],
   "source": [
    "from sklearn.neighbors import KNeighborsClassifier \n",
    "knn = KNeighborsClassifier(n_neighbors = 5)\n",
    "knn.fit(predictors_iris, outcomes)\n",
    "sk_predictions = knn.predict(predictors_iris)\n",
    "print (sk_predictions.shape)\n",
    "print (sk_predictions[0:10])"
   ]
  },
  {
   "cell_type": "code",
   "execution_count": 64,
   "metadata": {
    "collapsed": false
   },
   "outputs": [
    {
     "name": "stdout",
     "output_type": "stream",
     "text": [
      "(150,)\n",
      "[0 0 0 0 0 0 0 0 0 0]\n"
     ]
    }
   ],
   "source": [
    "my_predictions = np.array([knn_predict(p, predictors_iris, outcomes, 5) for p in predictors_iris])\n",
    "print (my_predictions.shape)\n",
    "print (sk_predictions[0:10])"
   ]
  },
  {
   "cell_type": "code",
   "execution_count": 69,
   "metadata": {
    "collapsed": false
   },
   "outputs": [
    {
     "data": {
      "text/plain": [
       "array([ True,  True,  True,  True,  True,  True,  True,  True,  True,\n",
       "        True,  True,  True,  True,  True,  True,  True,  True,  True,\n",
       "        True,  True,  True,  True,  True,  True,  True,  True,  True,\n",
       "        True,  True,  True,  True,  True,  True,  True,  True,  True,\n",
       "        True,  True,  True,  True,  True,  True,  True,  True,  True,\n",
       "        True,  True,  True,  True,  True,  True,  True,  True,  True,\n",
       "        True,  True,  True,  True,  True,  True,  True, False,  True,\n",
       "        True,  True,  True,  True,  True,  True,  True,  True,  True,\n",
       "        True,  True,  True,  True,  True, False,  True,  True,  True,\n",
       "        True,  True,  True,  True, False,  True,  True,  True,  True,\n",
       "        True,  True,  True,  True,  True,  True,  True,  True,  True,\n",
       "        True,  True,  True,  True,  True,  True,  True,  True,  True,\n",
       "       False,  True,  True,  True,  True,  True,  True,  True,  True,\n",
       "        True,  True,  True,  True,  True,  True,  True,  True,  True,\n",
       "        True,  True,  True,  True,  True,  True,  True,  True,  True,\n",
       "        True,  True,  True,  True,  True,  True,  True,  True,  True,\n",
       "        True, False,  True,  True,  True, False], dtype=bool)"
      ]
     },
     "execution_count": 69,
     "metadata": {},
     "output_type": "execute_result"
    }
   ],
   "source": [
    "sk_predictions == my_predictions"
   ]
  },
  {
   "cell_type": "code",
   "execution_count": 66,
   "metadata": {
    "collapsed": false
   },
   "outputs": [
    {
     "data": {
      "text/plain": [
       "96.0"
      ]
     },
     "execution_count": 66,
     "metadata": {},
     "output_type": "execute_result"
    }
   ],
   "source": [
    "100*np.mean(sk_predictions == my_predictions)"
   ]
  },
  {
   "cell_type": "code",
   "execution_count": 67,
   "metadata": {
    "collapsed": false
   },
   "outputs": [
    {
     "name": "stdout",
     "output_type": "stream",
     "text": [
      "SciKitLearn kNN == Home Made kNN 96.0 %\n"
     ]
    }
   ],
   "source": [
    "print (\"SciKitLearn kNN == Home Made kNN\", 100*np.mean(sk_predictions == my_predictions), \"%\")"
   ]
  },
  {
   "cell_type": "markdown",
   "metadata": {},
   "source": [
    "How frequently do my_predictions and sk_predictions agree with the actual observed outcomes"
   ]
  },
  {
   "cell_type": "code",
   "execution_count": 68,
   "metadata": {
    "collapsed": false
   },
   "outputs": [
    {
     "name": "stdout",
     "output_type": "stream",
     "text": [
      "SciKitLearn 83.3333333333\n",
      "Homemade 84.6666666667\n"
     ]
    }
   ],
   "source": [
    "print (\"SciKitLearn\",100*np.mean(sk_predictions == outcomes))\n",
    "print (\"Homemade\",100*np.mean(my_predictions == outcomes))"
   ]
  }
 ],
 "metadata": {
  "kernelspec": {
   "display_name": "Python 3",
   "language": "python",
   "name": "python3"
  },
  "language_info": {
   "codemirror_mode": {
    "name": "ipython",
    "version": 3
   },
   "file_extension": ".py",
   "mimetype": "text/x-python",
   "name": "python",
   "nbconvert_exporter": "python",
   "pygments_lexer": "ipython3",
   "version": "3.6.0"
  }
 },
 "nbformat": 4,
 "nbformat_minor": 2
}
